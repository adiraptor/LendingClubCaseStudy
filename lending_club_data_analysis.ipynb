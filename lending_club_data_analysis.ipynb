{
 "cells": [
  {
   "cell_type": "markdown",
   "id": "ffbac679",
   "metadata": {},
   "source": [
    "# Lending Club Case Study"
   ]
  },
  {
   "cell_type": "code",
   "execution_count": 1,
   "id": "a2bf711e",
   "metadata": {},
   "outputs": [],
   "source": [
    "#Loading the libraries\n",
    "\n",
    "import pandas as pd\n",
    "import numpy as np\n"
   ]
  },
  {
   "cell_type": "code",
   "execution_count": 38,
   "id": "14e7c32c",
   "metadata": {},
   "outputs": [
    {
     "name": "stderr",
     "output_type": "stream",
     "text": [
      "C:\\Users\\Aditya\\anaconda3\\lib\\site-packages\\IPython\\core\\interactiveshell.py:3444: DtypeWarning: Columns (47) have mixed types.Specify dtype option on import or set low_memory=False.\n",
      "  exec(code_obj, self.user_global_ns, self.user_ns)\n"
     ]
    }
   ],
   "source": [
    "#Importing the data\n",
    "\n",
    "\n",
    "loan_csv_url = 'https://drive.google.com/file/d/1OM0BbebsnDoRsqYAIEDhJPMEE6VwrPIl/view?usp=sharing' #source csv url\n",
    "loan_dw_url = 'https://drive.google.com/uc?id=' + loan_csv_url.split('/')[-2] #create a download url using the file id from above\n",
    "\n",
    "loan_dataset = pd.read_csv(loan_dw_url)"
   ]
  },
  {
   "cell_type": "code",
   "execution_count": 39,
   "id": "1d166429",
   "metadata": {
    "scrolled": false
   },
   "outputs": [
    {
     "data": {
      "text/html": [
       "<div>\n",
       "<style scoped>\n",
       "    .dataframe tbody tr th:only-of-type {\n",
       "        vertical-align: middle;\n",
       "    }\n",
       "\n",
       "    .dataframe tbody tr th {\n",
       "        vertical-align: top;\n",
       "    }\n",
       "\n",
       "    .dataframe thead th {\n",
       "        text-align: right;\n",
       "    }\n",
       "</style>\n",
       "<table border=\"1\" class=\"dataframe\">\n",
       "  <thead>\n",
       "    <tr style=\"text-align: right;\">\n",
       "      <th></th>\n",
       "      <th>id</th>\n",
       "      <th>member_id</th>\n",
       "      <th>loan_amnt</th>\n",
       "      <th>funded_amnt</th>\n",
       "      <th>funded_amnt_inv</th>\n",
       "      <th>term</th>\n",
       "      <th>int_rate</th>\n",
       "      <th>installment</th>\n",
       "      <th>grade</th>\n",
       "      <th>sub_grade</th>\n",
       "      <th>...</th>\n",
       "      <th>num_tl_90g_dpd_24m</th>\n",
       "      <th>num_tl_op_past_12m</th>\n",
       "      <th>pct_tl_nvr_dlq</th>\n",
       "      <th>percent_bc_gt_75</th>\n",
       "      <th>pub_rec_bankruptcies</th>\n",
       "      <th>tax_liens</th>\n",
       "      <th>tot_hi_cred_lim</th>\n",
       "      <th>total_bal_ex_mort</th>\n",
       "      <th>total_bc_limit</th>\n",
       "      <th>total_il_high_credit_limit</th>\n",
       "    </tr>\n",
       "  </thead>\n",
       "  <tbody>\n",
       "    <tr>\n",
       "      <th>0</th>\n",
       "      <td>1077501</td>\n",
       "      <td>1296599</td>\n",
       "      <td>5000</td>\n",
       "      <td>5000</td>\n",
       "      <td>4975.0</td>\n",
       "      <td>36 months</td>\n",
       "      <td>10.65%</td>\n",
       "      <td>162.87</td>\n",
       "      <td>B</td>\n",
       "      <td>B2</td>\n",
       "      <td>...</td>\n",
       "      <td>NaN</td>\n",
       "      <td>NaN</td>\n",
       "      <td>NaN</td>\n",
       "      <td>NaN</td>\n",
       "      <td>0.0</td>\n",
       "      <td>0.0</td>\n",
       "      <td>NaN</td>\n",
       "      <td>NaN</td>\n",
       "      <td>NaN</td>\n",
       "      <td>NaN</td>\n",
       "    </tr>\n",
       "    <tr>\n",
       "      <th>1</th>\n",
       "      <td>1077430</td>\n",
       "      <td>1314167</td>\n",
       "      <td>2500</td>\n",
       "      <td>2500</td>\n",
       "      <td>2500.0</td>\n",
       "      <td>60 months</td>\n",
       "      <td>15.27%</td>\n",
       "      <td>59.83</td>\n",
       "      <td>C</td>\n",
       "      <td>C4</td>\n",
       "      <td>...</td>\n",
       "      <td>NaN</td>\n",
       "      <td>NaN</td>\n",
       "      <td>NaN</td>\n",
       "      <td>NaN</td>\n",
       "      <td>0.0</td>\n",
       "      <td>0.0</td>\n",
       "      <td>NaN</td>\n",
       "      <td>NaN</td>\n",
       "      <td>NaN</td>\n",
       "      <td>NaN</td>\n",
       "    </tr>\n",
       "    <tr>\n",
       "      <th>2</th>\n",
       "      <td>1077175</td>\n",
       "      <td>1313524</td>\n",
       "      <td>2400</td>\n",
       "      <td>2400</td>\n",
       "      <td>2400.0</td>\n",
       "      <td>36 months</td>\n",
       "      <td>15.96%</td>\n",
       "      <td>84.33</td>\n",
       "      <td>C</td>\n",
       "      <td>C5</td>\n",
       "      <td>...</td>\n",
       "      <td>NaN</td>\n",
       "      <td>NaN</td>\n",
       "      <td>NaN</td>\n",
       "      <td>NaN</td>\n",
       "      <td>0.0</td>\n",
       "      <td>0.0</td>\n",
       "      <td>NaN</td>\n",
       "      <td>NaN</td>\n",
       "      <td>NaN</td>\n",
       "      <td>NaN</td>\n",
       "    </tr>\n",
       "    <tr>\n",
       "      <th>3</th>\n",
       "      <td>1076863</td>\n",
       "      <td>1277178</td>\n",
       "      <td>10000</td>\n",
       "      <td>10000</td>\n",
       "      <td>10000.0</td>\n",
       "      <td>36 months</td>\n",
       "      <td>13.49%</td>\n",
       "      <td>339.31</td>\n",
       "      <td>C</td>\n",
       "      <td>C1</td>\n",
       "      <td>...</td>\n",
       "      <td>NaN</td>\n",
       "      <td>NaN</td>\n",
       "      <td>NaN</td>\n",
       "      <td>NaN</td>\n",
       "      <td>0.0</td>\n",
       "      <td>0.0</td>\n",
       "      <td>NaN</td>\n",
       "      <td>NaN</td>\n",
       "      <td>NaN</td>\n",
       "      <td>NaN</td>\n",
       "    </tr>\n",
       "    <tr>\n",
       "      <th>4</th>\n",
       "      <td>1075358</td>\n",
       "      <td>1311748</td>\n",
       "      <td>3000</td>\n",
       "      <td>3000</td>\n",
       "      <td>3000.0</td>\n",
       "      <td>60 months</td>\n",
       "      <td>12.69%</td>\n",
       "      <td>67.79</td>\n",
       "      <td>B</td>\n",
       "      <td>B5</td>\n",
       "      <td>...</td>\n",
       "      <td>NaN</td>\n",
       "      <td>NaN</td>\n",
       "      <td>NaN</td>\n",
       "      <td>NaN</td>\n",
       "      <td>0.0</td>\n",
       "      <td>0.0</td>\n",
       "      <td>NaN</td>\n",
       "      <td>NaN</td>\n",
       "      <td>NaN</td>\n",
       "      <td>NaN</td>\n",
       "    </tr>\n",
       "  </tbody>\n",
       "</table>\n",
       "<p>5 rows × 111 columns</p>\n",
       "</div>"
      ],
      "text/plain": [
       "        id  member_id  loan_amnt  funded_amnt  funded_amnt_inv        term  \\\n",
       "0  1077501    1296599       5000         5000           4975.0   36 months   \n",
       "1  1077430    1314167       2500         2500           2500.0   60 months   \n",
       "2  1077175    1313524       2400         2400           2400.0   36 months   \n",
       "3  1076863    1277178      10000        10000          10000.0   36 months   \n",
       "4  1075358    1311748       3000         3000           3000.0   60 months   \n",
       "\n",
       "  int_rate  installment grade sub_grade  ... num_tl_90g_dpd_24m  \\\n",
       "0   10.65%       162.87     B        B2  ...                NaN   \n",
       "1   15.27%        59.83     C        C4  ...                NaN   \n",
       "2   15.96%        84.33     C        C5  ...                NaN   \n",
       "3   13.49%       339.31     C        C1  ...                NaN   \n",
       "4   12.69%        67.79     B        B5  ...                NaN   \n",
       "\n",
       "  num_tl_op_past_12m pct_tl_nvr_dlq  percent_bc_gt_75 pub_rec_bankruptcies  \\\n",
       "0                NaN            NaN               NaN                  0.0   \n",
       "1                NaN            NaN               NaN                  0.0   \n",
       "2                NaN            NaN               NaN                  0.0   \n",
       "3                NaN            NaN               NaN                  0.0   \n",
       "4                NaN            NaN               NaN                  0.0   \n",
       "\n",
       "  tax_liens tot_hi_cred_lim total_bal_ex_mort total_bc_limit  \\\n",
       "0       0.0             NaN               NaN            NaN   \n",
       "1       0.0             NaN               NaN            NaN   \n",
       "2       0.0             NaN               NaN            NaN   \n",
       "3       0.0             NaN               NaN            NaN   \n",
       "4       0.0             NaN               NaN            NaN   \n",
       "\n",
       "  total_il_high_credit_limit  \n",
       "0                        NaN  \n",
       "1                        NaN  \n",
       "2                        NaN  \n",
       "3                        NaN  \n",
       "4                        NaN  \n",
       "\n",
       "[5 rows x 111 columns]"
      ]
     },
     "execution_count": 39,
     "metadata": {},
     "output_type": "execute_result"
    }
   ],
   "source": [
    "#Data Understanding\n",
    "\n",
    "loan_dataset.head()"
   ]
  },
  {
   "cell_type": "markdown",
   "id": "108f760a",
   "metadata": {},
   "source": [
    "## Dataset Description\n",
    "\n",
    "The given dataset is a profile of all the customers who have requested for loans from lending club in the period 2007 - 2011. \n",
    "\n",
    "This includes the loan amount details, and some customer behavior details whcih were collected with the purpose of getting a holistic view of their risk profiles\n",
    "\n",
    "\n",
    "## Problem Statement\n",
    "\n",
    "The objective of the analysis done below is to use this profiling information to predict whether or not a customer will default on his/her loan payments.\n",
    "\n",
    "High delinquency rate on loans leading to losses for the company is a reason why we require such an analysis to be conducted.\n",
    "\n",
    "The target variable for our case study will be the **loan_status** variable\n",
    "\n",
    "\n",
    "## Solution Approach\n",
    "\n",
    "Since the dataset and the outcome are very specific and restricted to EDA, we have decided to go with only univariate and bivariate analysis, for the **loan_status** variable. \n",
    "\n",
    "The key inference that we want to deduce out of this analysis are the indicators, which lead to the loan being defaulted, so that given values for those key indicators, it can be predicted whether the loan is going to be defaulted or not.\n",
    "\n"
   ]
  },
  {
   "cell_type": "markdown",
   "id": "1827ebb8",
   "metadata": {},
   "source": [
    "## Data Cleaning"
   ]
  },
  {
   "cell_type": "code",
   "execution_count": 40,
   "id": "068b14e9",
   "metadata": {},
   "outputs": [
    {
     "name": "stdout",
     "output_type": "stream",
     "text": [
      "<class 'pandas.core.frame.DataFrame'>\n",
      "RangeIndex: 39717 entries, 0 to 39716\n",
      "Data columns (total 57 columns):\n",
      " #   Column                      Non-Null Count  Dtype  \n",
      "---  ------                      --------------  -----  \n",
      " 0   id                          39717 non-null  int64  \n",
      " 1   member_id                   39717 non-null  int64  \n",
      " 2   loan_amnt                   39717 non-null  int64  \n",
      " 3   funded_amnt                 39717 non-null  int64  \n",
      " 4   funded_amnt_inv             39717 non-null  float64\n",
      " 5   term                        39717 non-null  object \n",
      " 6   int_rate                    39717 non-null  object \n",
      " 7   installment                 39717 non-null  float64\n",
      " 8   grade                       39717 non-null  object \n",
      " 9   sub_grade                   39717 non-null  object \n",
      " 10  emp_title                   37258 non-null  object \n",
      " 11  emp_length                  38642 non-null  object \n",
      " 12  home_ownership              39717 non-null  object \n",
      " 13  annual_inc                  39717 non-null  float64\n",
      " 14  verification_status         39717 non-null  object \n",
      " 15  issue_d                     39717 non-null  object \n",
      " 16  loan_status                 39717 non-null  object \n",
      " 17  pymnt_plan                  39717 non-null  object \n",
      " 18  url                         39717 non-null  object \n",
      " 19  desc                        26777 non-null  object \n",
      " 20  purpose                     39717 non-null  object \n",
      " 21  title                       39706 non-null  object \n",
      " 22  zip_code                    39717 non-null  object \n",
      " 23  addr_state                  39717 non-null  object \n",
      " 24  dti                         39717 non-null  float64\n",
      " 25  delinq_2yrs                 39717 non-null  int64  \n",
      " 26  earliest_cr_line            39717 non-null  object \n",
      " 27  inq_last_6mths              39717 non-null  int64  \n",
      " 28  mths_since_last_delinq      14035 non-null  float64\n",
      " 29  mths_since_last_record      2786 non-null   float64\n",
      " 30  open_acc                    39717 non-null  int64  \n",
      " 31  pub_rec                     39717 non-null  int64  \n",
      " 32  revol_bal                   39717 non-null  int64  \n",
      " 33  revol_util                  39667 non-null  object \n",
      " 34  total_acc                   39717 non-null  int64  \n",
      " 35  initial_list_status         39717 non-null  object \n",
      " 36  out_prncp                   39717 non-null  float64\n",
      " 37  out_prncp_inv               39717 non-null  float64\n",
      " 38  total_pymnt                 39717 non-null  float64\n",
      " 39  total_pymnt_inv             39717 non-null  float64\n",
      " 40  total_rec_prncp             39717 non-null  float64\n",
      " 41  total_rec_int               39717 non-null  float64\n",
      " 42  total_rec_late_fee          39717 non-null  float64\n",
      " 43  recoveries                  39717 non-null  float64\n",
      " 44  collection_recovery_fee     39717 non-null  float64\n",
      " 45  last_pymnt_d                39646 non-null  object \n",
      " 46  last_pymnt_amnt             39717 non-null  float64\n",
      " 47  next_pymnt_d                1140 non-null   object \n",
      " 48  last_credit_pull_d          39715 non-null  object \n",
      " 49  collections_12_mths_ex_med  39661 non-null  float64\n",
      " 50  policy_code                 39717 non-null  int64  \n",
      " 51  application_type            39717 non-null  object \n",
      " 52  acc_now_delinq              39717 non-null  int64  \n",
      " 53  chargeoff_within_12_mths    39661 non-null  float64\n",
      " 54  delinq_amnt                 39717 non-null  int64  \n",
      " 55  pub_rec_bankruptcies        39020 non-null  float64\n",
      " 56  tax_liens                   39678 non-null  float64\n",
      "dtypes: float64(20), int64(13), object(24)\n",
      "memory usage: 17.3+ MB\n"
     ]
    }
   ],
   "source": [
    "#Dropping all columns with NA values\n",
    "\n",
    "loan_dataset.dropna(axis=1, how='all', inplace = True)\n",
    "\n",
    "loan_dataset.info()"
   ]
  },
  {
   "cell_type": "markdown",
   "id": "16efae85",
   "metadata": {},
   "source": [
    "We will also eliminate those columns whose value does not change at all, since plotting them against the target variable will not result in a meaningful analysis"
   ]
  },
  {
   "cell_type": "code",
   "execution_count": 41,
   "id": "25440114",
   "metadata": {},
   "outputs": [
    {
     "name": "stdout",
     "output_type": "stream",
     "text": [
      "<class 'pandas.core.frame.DataFrame'>\n",
      "RangeIndex: 39717 entries, 0 to 39716\n",
      "Data columns (total 48 columns):\n",
      " #   Column                   Non-Null Count  Dtype  \n",
      "---  ------                   --------------  -----  \n",
      " 0   id                       39717 non-null  int64  \n",
      " 1   member_id                39717 non-null  int64  \n",
      " 2   loan_amnt                39717 non-null  int64  \n",
      " 3   funded_amnt              39717 non-null  int64  \n",
      " 4   funded_amnt_inv          39717 non-null  float64\n",
      " 5   term                     39717 non-null  object \n",
      " 6   int_rate                 39717 non-null  object \n",
      " 7   installment              39717 non-null  float64\n",
      " 8   grade                    39717 non-null  object \n",
      " 9   sub_grade                39717 non-null  object \n",
      " 10  emp_title                37258 non-null  object \n",
      " 11  emp_length               38642 non-null  object \n",
      " 12  home_ownership           39717 non-null  object \n",
      " 13  annual_inc               39717 non-null  float64\n",
      " 14  verification_status      39717 non-null  object \n",
      " 15  issue_d                  39717 non-null  object \n",
      " 16  loan_status              39717 non-null  object \n",
      " 17  url                      39717 non-null  object \n",
      " 18  desc                     26777 non-null  object \n",
      " 19  purpose                  39717 non-null  object \n",
      " 20  title                    39706 non-null  object \n",
      " 21  zip_code                 39717 non-null  object \n",
      " 22  addr_state               39717 non-null  object \n",
      " 23  dti                      39717 non-null  float64\n",
      " 24  delinq_2yrs              39717 non-null  int64  \n",
      " 25  earliest_cr_line         39717 non-null  object \n",
      " 26  inq_last_6mths           39717 non-null  int64  \n",
      " 27  mths_since_last_delinq   14035 non-null  float64\n",
      " 28  mths_since_last_record   2786 non-null   float64\n",
      " 29  open_acc                 39717 non-null  int64  \n",
      " 30  pub_rec                  39717 non-null  int64  \n",
      " 31  revol_bal                39717 non-null  int64  \n",
      " 32  revol_util               39667 non-null  object \n",
      " 33  total_acc                39717 non-null  int64  \n",
      " 34  out_prncp                39717 non-null  float64\n",
      " 35  out_prncp_inv            39717 non-null  float64\n",
      " 36  total_pymnt              39717 non-null  float64\n",
      " 37  total_pymnt_inv          39717 non-null  float64\n",
      " 38  total_rec_prncp          39717 non-null  float64\n",
      " 39  total_rec_int            39717 non-null  float64\n",
      " 40  total_rec_late_fee       39717 non-null  float64\n",
      " 41  recoveries               39717 non-null  float64\n",
      " 42  collection_recovery_fee  39717 non-null  float64\n",
      " 43  last_pymnt_d             39646 non-null  object \n",
      " 44  last_pymnt_amnt          39717 non-null  float64\n",
      " 45  next_pymnt_d             1140 non-null   object \n",
      " 46  last_credit_pull_d       39715 non-null  object \n",
      " 47  pub_rec_bankruptcies     39020 non-null  float64\n",
      "dtypes: float64(17), int64(10), object(21)\n",
      "memory usage: 14.5+ MB\n"
     ]
    }
   ],
   "source": [
    "#Removing all the columns which have singular values\n",
    "\n",
    "loan_dataset = loan_dataset[[col for col in loan_dataset.columns if loan_dataset[col].nunique() > 1]]\n",
    "\n",
    "loan_dataset.info()"
   ]
  },
  {
   "cell_type": "markdown",
   "id": "1075988d",
   "metadata": {},
   "source": [
    "## Feature Selection\n",
    "\n",
    "Based on the understanding from the data dictionary, elimintating those columns which are of no use to the problem statement, or in other words, do not affect the target variable - **loan_status**\n",
    "\n",
    "\n",
    "* id - The primary key of the dataset, used to uniquely identify each loan assigned by lending club, its randomly generated, so wont contain any patterns\n",
    "* member_id - Again, randomly generated id for the member, assigned by Lending Club\n",
    "* desc - Loan description provied by the borrower - this is a sentence in natural language given by the borrower, in no standardized format, hence there is no way to convert this into a categorical or continuous variable without applying NLP. Hence, disregarding this as well\n",
    "* title - Loan title provided by the borrower, same as desc\n",
    "* url - This is the url for the lending club web page where the loan data for that particluar listing can be found - Not a defining factor for analysis\n",
    "* zip code - The zip code of the boorower - it is masked and also doesnt provide necessary information towards predicting whether the borrower will default or not\n",
    "\n",
    "* #### Member behaviour features -  \n",
    "\n",
    "These features are representative of the member's patterns and habits while repaying the loans, data which would not be avaiable to us while the applicant is filing an application for a loan\n",
    "\n",
    "   * delinq_2yrs\n",
    "   * mths_since_last_delinq\n",
    "   * mths_since_last_record\n",
    "\n",
    "* #### Ongoing Loan features -\n",
    "\n",
    "These features describe the details for the ongoing loan instalments and payments, which also would not be relevant/available at the time of application\n",
    "\n",
    " *  out_prncp                \n",
    " *  out_prncp_inv            \n",
    " *  total_pymnt              \n",
    " *  total_pymnt_inv          \n",
    " *  total_rec_prncp          \n",
    " *  total_rec_int            \n",
    " *  total_rec_late_fee       \n",
    " *  recoveries               \n",
    " *  collection_recovery_fee  \n",
    " *  last_pymnt_d             \n",
    " *  last_pymnt_amnt          \n",
    " *  next_pymnt_d\n",
    " *  last_credit_pull_d\n"
   ]
  },
  {
   "cell_type": "code",
   "execution_count": 42,
   "id": "1675a2d2",
   "metadata": {},
   "outputs": [
    {
     "name": "stdout",
     "output_type": "stream",
     "text": [
      "<class 'pandas.core.frame.DataFrame'>\n",
      "RangeIndex: 39717 entries, 0 to 39716\n",
      "Data columns (total 27 columns):\n",
      " #   Column                Non-Null Count  Dtype  \n",
      "---  ------                --------------  -----  \n",
      " 0   loan_amnt             39717 non-null  int64  \n",
      " 1   funded_amnt           39717 non-null  int64  \n",
      " 2   funded_amnt_inv       39717 non-null  float64\n",
      " 3   term                  39717 non-null  object \n",
      " 4   int_rate              39717 non-null  object \n",
      " 5   installment           39717 non-null  float64\n",
      " 6   grade                 39717 non-null  object \n",
      " 7   sub_grade             39717 non-null  object \n",
      " 8   emp_title             37258 non-null  object \n",
      " 9   emp_length            38642 non-null  object \n",
      " 10  home_ownership        39717 non-null  object \n",
      " 11  annual_inc            39717 non-null  float64\n",
      " 12  verification_status   39717 non-null  object \n",
      " 13  issue_d               39717 non-null  object \n",
      " 14  loan_status           39717 non-null  object \n",
      " 15  purpose               39717 non-null  object \n",
      " 16  title                 39706 non-null  object \n",
      " 17  addr_state            39717 non-null  object \n",
      " 18  dti                   39717 non-null  float64\n",
      " 19  earliest_cr_line      39717 non-null  object \n",
      " 20  inq_last_6mths        39717 non-null  int64  \n",
      " 21  open_acc              39717 non-null  int64  \n",
      " 22  pub_rec               39717 non-null  int64  \n",
      " 23  revol_bal             39717 non-null  int64  \n",
      " 24  revol_util            39667 non-null  object \n",
      " 25  total_acc             39717 non-null  int64  \n",
      " 26  pub_rec_bankruptcies  39020 non-null  float64\n",
      "dtypes: float64(5), int64(7), object(15)\n",
      "memory usage: 8.2+ MB\n"
     ]
    }
   ],
   "source": [
    "# Only keeping relevant columns in the dataset\n",
    "\n",
    "loan_dataset_final = loan_dataset.drop(['id', 'member_id', 'desc', 'title', 'url', 'zip_code', 'delinq_2yrs', 'mths_since_last_delinq', 'mths_since_last_record', 'out_prncp', 'out_prncp_inv', 'total_pymnt', 'total_pymnt_inv', 'total_rec_prncp', 'total_rec_int', 'total_rec_late_fee', 'recoveries', 'collection_recovery_fee', 'last_pymnt_d', 'last_pymnt_amnt', 'next_pymnt_d', 'last_credit_pull_d'], axis=1, inplace = False)\n",
    "\n",
    "loan_dataset_final.info()"
   ]
  },
  {
   "cell_type": "markdown",
   "id": "c92432c5",
   "metadata": {},
   "source": [
    "After performing feature selection, we are left with 27 relevant columns in the dataset. We will now perform missing value and outlier treatment for these columns before proceeding with transformation"
   ]
  },
  {
   "cell_type": "markdown",
   "id": "c018e0c8",
   "metadata": {},
   "source": [
    "## Missing Value Treatment"
   ]
  },
  {
   "cell_type": "markdown",
   "id": "e9d664be",
   "metadata": {},
   "source": [
    "We will first define some reusable functions for dealing with missing values"
   ]
  },
  {
   "cell_type": "code",
   "execution_count": 61,
   "id": "97514717",
   "metadata": {},
   "outputs": [],
   "source": [
    "#Defining a function to calculate percentage of missing values for a column\n",
    "\n",
    "def percentage_missing(column_name):\n",
    "    \n",
    "    # Percentage of the ratio of - sum of na values of the column to the count of the column\n",
    "    column_percent_missing = (loan_dataset_final[column_name].isna().sum()/loan_dataset_final[column_name].count())*100\n",
    "    \n",
    "    return column_percent_missing\n",
    "\n",
    "\n",
    "#Defining a function to replace n/a values with an imputation\n",
    "\n",
    "def replace_na(column_name, replacement):\n",
    "    \n",
    "    #Find the coordinates of the n/a valued rows of the given column, and replace them with the value given\n",
    "    loan_dataset_final.loc[loan_dataset_final[column_name].isna()==True, column_name] = replacement"
   ]
  },
  {
   "cell_type": "markdown",
   "id": "719c70d8",
   "metadata": {},
   "source": [
    "From inspection of the dataset, the first column that actually has n/a or missing values is the emp_title column. It has both blanks as well as N/A"
   ]
  },
  {
   "cell_type": "code",
   "execution_count": 58,
   "id": "acc53a27",
   "metadata": {},
   "outputs": [
    {
     "name": "stdout",
     "output_type": "stream",
     "text": [
      "0.0\n"
     ]
    }
   ],
   "source": [
    "#Getting the count of missing values from the column\n",
    "\n",
    "emp_title_percent_missing = percentage_missing('emp_title')\n",
    "\n",
    "print(emp_title_percent_missing)"
   ]
  },
  {
   "cell_type": "markdown",
   "id": "7e4c7328",
   "metadata": {},
   "source": [
    "Here, as the percentage of missing values is small, it makes sense to impute them, however as the column describes employment of the member, it doesnt make sense to replace it with the mode of the column as we would with a categorical variable. Hence we can replace it with 'Unknown', which would become another bin for the values"
   ]
  },
  {
   "cell_type": "code",
   "execution_count": 62,
   "id": "19df2d08",
   "metadata": {},
   "outputs": [
    {
     "data": {
      "text/plain": [
       "0                           Unknown\n",
       "1                             Ryder\n",
       "2                           Unknown\n",
       "3               AIR RESOURCES BOARD\n",
       "4          University Medical Group\n",
       "                    ...            \n",
       "39712               FiSite Research\n",
       "39713    Squarewave Solutions, Ltd.\n",
       "39714                       Unknown\n",
       "39715                       Unknown\n",
       "39716              Evergreen Center\n",
       "Name: emp_title, Length: 39717, dtype: object"
      ]
     },
     "execution_count": 62,
     "metadata": {},
     "output_type": "execute_result"
    }
   ],
   "source": [
    "#Replace all n/a and blank values with unknown\n",
    "\n",
    "replace_na('emp_title','Unknown')\n",
    "\n",
    "loan_dataset_final['emp_title']"
   ]
  },
  {
   "cell_type": "code",
   "execution_count": 45,
   "id": "28e96dd9",
   "metadata": {},
   "outputs": [
    {
     "name": "stdout",
     "output_type": "stream",
     "text": [
      "2.7819471041871537\n"
     ]
    },
    {
     "data": {
      "text/plain": [
       "0"
      ]
     },
     "execution_count": 45,
     "metadata": {},
     "output_type": "execute_result"
    }
   ],
   "source": [
    "#Similar treatment can be given to the emp_length column as well\n",
    "\n",
    "emp_len_percent_missing = percentage_missing('emp_length')\n",
    "\n",
    "print(emp_len_percent_missing)\n",
    "\n",
    "replace_na('emp_length','Unknown')\n",
    "\n",
    "loan_dataset_final['emp_length'].isna().sum()\n"
   ]
  },
  {
   "cell_type": "markdown",
   "id": "d73c22f4",
   "metadata": {},
   "source": [
    "The next column with missing values is the **revol_util** column, which, according to [this](https://www.lendingclub.com/loans/resource-center/what-is-credit-utilization) link, is the ratio of your currently used credit balance to the total credit limit.\n",
    "\n",
    "Thus, it is a dependent variable on the **revol_bal** variable. We can analyse the values of missing values against the total_bal column"
   ]
  },
  {
   "cell_type": "code",
   "execution_count": 54,
   "id": "a69e73d4",
   "metadata": {},
   "outputs": [
    {
     "data": {
      "text/html": [
       "<div>\n",
       "<style scoped>\n",
       "    .dataframe tbody tr th:only-of-type {\n",
       "        vertical-align: middle;\n",
       "    }\n",
       "\n",
       "    .dataframe tbody tr th {\n",
       "        vertical-align: top;\n",
       "    }\n",
       "\n",
       "    .dataframe thead th {\n",
       "        text-align: right;\n",
       "    }\n",
       "</style>\n",
       "<table border=\"1\" class=\"dataframe\">\n",
       "  <thead>\n",
       "    <tr style=\"text-align: right;\">\n",
       "      <th></th>\n",
       "      <th>revol_bal</th>\n",
       "      <th>revol_util</th>\n",
       "    </tr>\n",
       "  </thead>\n",
       "  <tbody>\n",
       "    <tr>\n",
       "      <th>3565</th>\n",
       "      <td>0</td>\n",
       "      <td>NaN</td>\n",
       "    </tr>\n",
       "    <tr>\n",
       "      <th>4714</th>\n",
       "      <td>0</td>\n",
       "      <td>NaN</td>\n",
       "    </tr>\n",
       "    <tr>\n",
       "      <th>4943</th>\n",
       "      <td>0</td>\n",
       "      <td>NaN</td>\n",
       "    </tr>\n",
       "    <tr>\n",
       "      <th>11282</th>\n",
       "      <td>0</td>\n",
       "      <td>NaN</td>\n",
       "    </tr>\n",
       "    <tr>\n",
       "      <th>12042</th>\n",
       "      <td>0</td>\n",
       "      <td>NaN</td>\n",
       "    </tr>\n",
       "    <tr>\n",
       "      <th>12147</th>\n",
       "      <td>0</td>\n",
       "      <td>NaN</td>\n",
       "    </tr>\n",
       "    <tr>\n",
       "      <th>13891</th>\n",
       "      <td>0</td>\n",
       "      <td>NaN</td>\n",
       "    </tr>\n",
       "    <tr>\n",
       "      <th>17985</th>\n",
       "      <td>0</td>\n",
       "      <td>NaN</td>\n",
       "    </tr>\n",
       "    <tr>\n",
       "      <th>18184</th>\n",
       "      <td>0</td>\n",
       "      <td>NaN</td>\n",
       "    </tr>\n",
       "    <tr>\n",
       "      <th>21604</th>\n",
       "      <td>0</td>\n",
       "      <td>NaN</td>\n",
       "    </tr>\n",
       "    <tr>\n",
       "      <th>24663</th>\n",
       "      <td>0</td>\n",
       "      <td>NaN</td>\n",
       "    </tr>\n",
       "    <tr>\n",
       "      <th>24738</th>\n",
       "      <td>0</td>\n",
       "      <td>NaN</td>\n",
       "    </tr>\n",
       "    <tr>\n",
       "      <th>24984</th>\n",
       "      <td>0</td>\n",
       "      <td>NaN</td>\n",
       "    </tr>\n",
       "    <tr>\n",
       "      <th>25261</th>\n",
       "      <td>0</td>\n",
       "      <td>NaN</td>\n",
       "    </tr>\n",
       "    <tr>\n",
       "      <th>25977</th>\n",
       "      <td>0</td>\n",
       "      <td>NaN</td>\n",
       "    </tr>\n",
       "    <tr>\n",
       "      <th>26649</th>\n",
       "      <td>0</td>\n",
       "      <td>NaN</td>\n",
       "    </tr>\n",
       "    <tr>\n",
       "      <th>26724</th>\n",
       "      <td>0</td>\n",
       "      <td>NaN</td>\n",
       "    </tr>\n",
       "    <tr>\n",
       "      <th>26813</th>\n",
       "      <td>0</td>\n",
       "      <td>NaN</td>\n",
       "    </tr>\n",
       "    <tr>\n",
       "      <th>28170</th>\n",
       "      <td>0</td>\n",
       "      <td>NaN</td>\n",
       "    </tr>\n",
       "    <tr>\n",
       "      <th>28685</th>\n",
       "      <td>0</td>\n",
       "      <td>NaN</td>\n",
       "    </tr>\n",
       "    <tr>\n",
       "      <th>28938</th>\n",
       "      <td>0</td>\n",
       "      <td>NaN</td>\n",
       "    </tr>\n",
       "    <tr>\n",
       "      <th>28986</th>\n",
       "      <td>0</td>\n",
       "      <td>NaN</td>\n",
       "    </tr>\n",
       "    <tr>\n",
       "      <th>29236</th>\n",
       "      <td>0</td>\n",
       "      <td>NaN</td>\n",
       "    </tr>\n",
       "    <tr>\n",
       "      <th>29248</th>\n",
       "      <td>0</td>\n",
       "      <td>NaN</td>\n",
       "    </tr>\n",
       "    <tr>\n",
       "      <th>31862</th>\n",
       "      <td>0</td>\n",
       "      <td>NaN</td>\n",
       "    </tr>\n",
       "    <tr>\n",
       "      <th>31939</th>\n",
       "      <td>0</td>\n",
       "      <td>NaN</td>\n",
       "    </tr>\n",
       "    <tr>\n",
       "      <th>32715</th>\n",
       "      <td>0</td>\n",
       "      <td>NaN</td>\n",
       "    </tr>\n",
       "    <tr>\n",
       "      <th>33078</th>\n",
       "      <td>0</td>\n",
       "      <td>NaN</td>\n",
       "    </tr>\n",
       "    <tr>\n",
       "      <th>33490</th>\n",
       "      <td>0</td>\n",
       "      <td>NaN</td>\n",
       "    </tr>\n",
       "    <tr>\n",
       "      <th>33534</th>\n",
       "      <td>0</td>\n",
       "      <td>NaN</td>\n",
       "    </tr>\n",
       "    <tr>\n",
       "      <th>34268</th>\n",
       "      <td>0</td>\n",
       "      <td>NaN</td>\n",
       "    </tr>\n",
       "    <tr>\n",
       "      <th>34849</th>\n",
       "      <td>0</td>\n",
       "      <td>NaN</td>\n",
       "    </tr>\n",
       "    <tr>\n",
       "      <th>35851</th>\n",
       "      <td>0</td>\n",
       "      <td>NaN</td>\n",
       "    </tr>\n",
       "    <tr>\n",
       "      <th>36209</th>\n",
       "      <td>0</td>\n",
       "      <td>NaN</td>\n",
       "    </tr>\n",
       "    <tr>\n",
       "      <th>36473</th>\n",
       "      <td>0</td>\n",
       "      <td>NaN</td>\n",
       "    </tr>\n",
       "    <tr>\n",
       "      <th>36859</th>\n",
       "      <td>0</td>\n",
       "      <td>NaN</td>\n",
       "    </tr>\n",
       "    <tr>\n",
       "      <th>37042</th>\n",
       "      <td>0</td>\n",
       "      <td>NaN</td>\n",
       "    </tr>\n",
       "    <tr>\n",
       "      <th>37268</th>\n",
       "      <td>0</td>\n",
       "      <td>NaN</td>\n",
       "    </tr>\n",
       "    <tr>\n",
       "      <th>37540</th>\n",
       "      <td>49238</td>\n",
       "      <td>NaN</td>\n",
       "    </tr>\n",
       "    <tr>\n",
       "      <th>37709</th>\n",
       "      <td>0</td>\n",
       "      <td>NaN</td>\n",
       "    </tr>\n",
       "    <tr>\n",
       "      <th>37757</th>\n",
       "      <td>0</td>\n",
       "      <td>NaN</td>\n",
       "    </tr>\n",
       "    <tr>\n",
       "      <th>37778</th>\n",
       "      <td>0</td>\n",
       "      <td>NaN</td>\n",
       "    </tr>\n",
       "    <tr>\n",
       "      <th>37911</th>\n",
       "      <td>0</td>\n",
       "      <td>NaN</td>\n",
       "    </tr>\n",
       "    <tr>\n",
       "      <th>38201</th>\n",
       "      <td>0</td>\n",
       "      <td>NaN</td>\n",
       "    </tr>\n",
       "    <tr>\n",
       "      <th>38457</th>\n",
       "      <td>0</td>\n",
       "      <td>NaN</td>\n",
       "    </tr>\n",
       "    <tr>\n",
       "      <th>38524</th>\n",
       "      <td>0</td>\n",
       "      <td>NaN</td>\n",
       "    </tr>\n",
       "    <tr>\n",
       "      <th>38899</th>\n",
       "      <td>0</td>\n",
       "      <td>NaN</td>\n",
       "    </tr>\n",
       "    <tr>\n",
       "      <th>38917</th>\n",
       "      <td>0</td>\n",
       "      <td>NaN</td>\n",
       "    </tr>\n",
       "    <tr>\n",
       "      <th>38949</th>\n",
       "      <td>0</td>\n",
       "      <td>NaN</td>\n",
       "    </tr>\n",
       "    <tr>\n",
       "      <th>38970</th>\n",
       "      <td>0</td>\n",
       "      <td>NaN</td>\n",
       "    </tr>\n",
       "  </tbody>\n",
       "</table>\n",
       "</div>"
      ],
      "text/plain": [
       "       revol_bal revol_util\n",
       "3565           0        NaN\n",
       "4714           0        NaN\n",
       "4943           0        NaN\n",
       "11282          0        NaN\n",
       "12042          0        NaN\n",
       "12147          0        NaN\n",
       "13891          0        NaN\n",
       "17985          0        NaN\n",
       "18184          0        NaN\n",
       "21604          0        NaN\n",
       "24663          0        NaN\n",
       "24738          0        NaN\n",
       "24984          0        NaN\n",
       "25261          0        NaN\n",
       "25977          0        NaN\n",
       "26649          0        NaN\n",
       "26724          0        NaN\n",
       "26813          0        NaN\n",
       "28170          0        NaN\n",
       "28685          0        NaN\n",
       "28938          0        NaN\n",
       "28986          0        NaN\n",
       "29236          0        NaN\n",
       "29248          0        NaN\n",
       "31862          0        NaN\n",
       "31939          0        NaN\n",
       "32715          0        NaN\n",
       "33078          0        NaN\n",
       "33490          0        NaN\n",
       "33534          0        NaN\n",
       "34268          0        NaN\n",
       "34849          0        NaN\n",
       "35851          0        NaN\n",
       "36209          0        NaN\n",
       "36473          0        NaN\n",
       "36859          0        NaN\n",
       "37042          0        NaN\n",
       "37268          0        NaN\n",
       "37540      49238        NaN\n",
       "37709          0        NaN\n",
       "37757          0        NaN\n",
       "37778          0        NaN\n",
       "37911          0        NaN\n",
       "38201          0        NaN\n",
       "38457          0        NaN\n",
       "38524          0        NaN\n",
       "38899          0        NaN\n",
       "38917          0        NaN\n",
       "38949          0        NaN\n",
       "38970          0        NaN"
      ]
     },
     "execution_count": 54,
     "metadata": {},
     "output_type": "execute_result"
    }
   ],
   "source": [
    "loan_dataset_final[loan_dataset_final['revol_util'].isna()==True][['revol_bal','revol_util']]"
   ]
  },
  {
   "cell_type": "markdown",
   "id": "f346ca43",
   "metadata": {},
   "source": [
    "As we can see, for all the rows except one, we can say that the revolving balance is 0 where revolving utilization is n/a. Also, we can see that wherever the revol_util is 0, the revol_bal is invariably 0.\n",
    "\n",
    "Therefore, we can safely impute the missing revol_util values with 0.\n"
   ]
  },
  {
   "cell_type": "code",
   "execution_count": 56,
   "id": "13887632",
   "metadata": {},
   "outputs": [
    {
     "data": {
      "text/plain": [
       "0"
      ]
     },
     "execution_count": 56,
     "metadata": {},
     "output_type": "execute_result"
    }
   ],
   "source": [
    "replace_na('revol_util', 0)\n",
    "\n",
    "loan_dataset_final['revol_util'].isna().sum()"
   ]
  },
  {
   "cell_type": "markdown",
   "id": "bac534dc",
   "metadata": {},
   "source": [
    "The final column with missing values is the pub_rec_bankruptcies column, which is a record of publicly declared bankruptcies by the member. The percentage of NA values in this columns is relatively small."
   ]
  },
  {
   "cell_type": "code",
   "execution_count": 59,
   "id": "36efcd8b",
   "metadata": {},
   "outputs": [
    {
     "name": "stdout",
     "output_type": "stream",
     "text": [
      "1.7862634546386469\n"
     ]
    }
   ],
   "source": [
    "pub_rec_bank_missing = percentage_missing('pub_rec_bankruptcies')\n",
    "\n",
    "print(pub_rec_bank_missing)"
   ]
  },
  {
   "cell_type": "markdown",
   "id": "46584d51",
   "metadata": {},
   "source": [
    "As this column is a numerical categorical variable, with values in 0, 1 and 2, we will replace the missing values with th mode of the column"
   ]
  },
  {
   "cell_type": "code",
   "execution_count": 64,
   "id": "3a49e7df",
   "metadata": {},
   "outputs": [
    {
     "data": {
      "text/plain": [
       "0    0.0\n",
       "dtype: float64"
      ]
     },
     "execution_count": 64,
     "metadata": {},
     "output_type": "execute_result"
    }
   ],
   "source": [
    "loan_dataset_final['pub_rec_bankruptcies'].mode()"
   ]
  },
  {
   "cell_type": "markdown",
   "id": "f731f31e",
   "metadata": {},
   "source": [
    "As the mode is 0, we can replace all the N/A values with 0"
   ]
  },
  {
   "cell_type": "code",
   "execution_count": 65,
   "id": "0a360049",
   "metadata": {},
   "outputs": [],
   "source": [
    "replace_na('pub_rec_bankruptcies', 0)"
   ]
  },
  {
   "cell_type": "code",
   "execution_count": 66,
   "id": "1b841195",
   "metadata": {},
   "outputs": [
    {
     "data": {
      "text/plain": [
       "0.0"
      ]
     },
     "execution_count": 66,
     "metadata": {},
     "output_type": "execute_result"
    }
   ],
   "source": [
    "percentage_missing('pub_rec_bankruptcies')"
   ]
  },
  {
   "cell_type": "markdown",
   "id": "560a630a",
   "metadata": {},
   "source": [
    "## Data Transformation"
   ]
  },
  {
   "cell_type": "markdown",
   "id": "fd6f207c",
   "metadata": {},
   "source": [
    "If we look at the info of the dataset, we can see that many of the columns are object typed, which may be incorrect for the feature they represent"
   ]
  },
  {
   "cell_type": "code",
   "execution_count": 67,
   "id": "523104f8",
   "metadata": {},
   "outputs": [
    {
     "name": "stdout",
     "output_type": "stream",
     "text": [
      "<class 'pandas.core.frame.DataFrame'>\n",
      "RangeIndex: 39717 entries, 0 to 39716\n",
      "Data columns (total 26 columns):\n",
      " #   Column                Non-Null Count  Dtype  \n",
      "---  ------                --------------  -----  \n",
      " 0   loan_amnt             39717 non-null  int64  \n",
      " 1   funded_amnt           39717 non-null  int64  \n",
      " 2   funded_amnt_inv       39717 non-null  float64\n",
      " 3   term                  39717 non-null  object \n",
      " 4   int_rate              39717 non-null  object \n",
      " 5   installment           39717 non-null  float64\n",
      " 6   grade                 39717 non-null  object \n",
      " 7   sub_grade             39717 non-null  object \n",
      " 8   emp_title             39717 non-null  object \n",
      " 9   emp_length            39717 non-null  object \n",
      " 10  home_ownership        39717 non-null  object \n",
      " 11  annual_inc            39717 non-null  float64\n",
      " 12  verification_status   39717 non-null  object \n",
      " 13  issue_d               39717 non-null  object \n",
      " 14  loan_status           39717 non-null  object \n",
      " 15  purpose               39717 non-null  object \n",
      " 16  addr_state            39717 non-null  object \n",
      " 17  dti                   39717 non-null  float64\n",
      " 18  earliest_cr_line      39717 non-null  object \n",
      " 19  inq_last_6mths        39717 non-null  int64  \n",
      " 20  open_acc              39717 non-null  int64  \n",
      " 21  pub_rec               39717 non-null  int64  \n",
      " 22  revol_bal             39717 non-null  int64  \n",
      " 23  revol_util            39717 non-null  object \n",
      " 24  total_acc             39717 non-null  int64  \n",
      " 25  pub_rec_bankruptcies  39717 non-null  float64\n",
      "dtypes: float64(5), int64(7), object(14)\n",
      "memory usage: 7.9+ MB\n"
     ]
    }
   ],
   "source": [
    "loan_dataset_final.info()"
   ]
  },
  {
   "cell_type": "markdown",
   "id": "ba9e7039",
   "metadata": {},
   "source": [
    "This is due to the data in these columns being in a inconsistent format, or having some extra identifiers or keywords in front of them which may be removed. We look at these features below and perform transforamtions wherever necessary"
   ]
  },
  {
   "cell_type": "markdown",
   "id": "c654ad33",
   "metadata": {},
   "source": [
    "The term column represents the duration of the loan - it has only 2 possible options - 36 months or 60 months.\n",
    "\n",
    "We can convert this into a categorical variable by having 2 bins - 3 to represent 3 years(36 months) and 5 to represent 60 months or 5 years."
   ]
  },
  {
   "cell_type": "code",
   "execution_count": 78,
   "id": "eb1b612a",
   "metadata": {},
   "outputs": [],
   "source": [
    "#Defining a generailzed replace function to be used for transformation\n",
    "\n",
    "def replace(column_name, condition, replacement):\n",
    "    \n",
    "    loan_dataset_final.loc[loan_dataset_final[column_name] == condition, column_name] = replacement\n",
    "    "
   ]
  },
  {
   "cell_type": "code",
   "execution_count": 96,
   "id": "69269745",
   "metadata": {},
   "outputs": [],
   "source": [
    "#Convert term column to string\n",
    "\n",
    "loan_dataset_final = loan_dataset_final.astype({'term':'string'})\n",
    "\n",
    "#Use replace function\n",
    "\n",
    "replace('term', ' 36 months', '3')\n",
    "replace('term', ' 60 months', '3')\n",
    "\n",
    "#Convert back to int\n",
    "\n",
    "loan_dataset_final = loan_dataset_final.astype({'term':np.int64})\n"
   ]
  },
  {
   "cell_type": "code",
   "execution_count": 102,
   "id": "8a9e281c",
   "metadata": {
    "collapsed": true
   },
   "outputs": [
    {
     "ename": "AttributeError",
     "evalue": "Can only use .str accessor with string values!",
     "output_type": "error",
     "traceback": [
      "\u001b[1;31m---------------------------------------------------------------------------\u001b[0m",
      "\u001b[1;31mAttributeError\u001b[0m                            Traceback (most recent call last)",
      "\u001b[1;32m~\\AppData\\Local\\Temp/ipykernel_6116/1800783960.py\u001b[0m in \u001b[0;36m<module>\u001b[1;34m\u001b[0m\n\u001b[0;32m      1\u001b[0m \u001b[1;31m#The column int_rate has percentage in front of it, removing those\u001b[0m\u001b[1;33m\u001b[0m\u001b[1;33m\u001b[0m\u001b[0m\n\u001b[0;32m      2\u001b[0m \u001b[1;33m\u001b[0m\u001b[0m\n\u001b[1;32m----> 3\u001b[1;33m \u001b[0mloan_dataset_final\u001b[0m\u001b[1;33m[\u001b[0m\u001b[1;34m'int_rate'\u001b[0m\u001b[1;33m]\u001b[0m \u001b[1;33m=\u001b[0m \u001b[0mloan_dataset_final\u001b[0m\u001b[1;33m[\u001b[0m\u001b[1;34m'int_rate'\u001b[0m\u001b[1;33m]\u001b[0m\u001b[1;33m.\u001b[0m\u001b[0mstr\u001b[0m\u001b[1;33m.\u001b[0m\u001b[0mreplace\u001b[0m\u001b[1;33m(\u001b[0m\u001b[1;34m'%'\u001b[0m\u001b[1;33m,\u001b[0m\u001b[1;34m''\u001b[0m\u001b[1;33m)\u001b[0m\u001b[1;33m.\u001b[0m\u001b[0mastype\u001b[0m\u001b[1;33m(\u001b[0m\u001b[0mnp\u001b[0m\u001b[1;33m.\u001b[0m\u001b[0mfloat64\u001b[0m\u001b[1;33m)\u001b[0m\u001b[1;33m\u001b[0m\u001b[1;33m\u001b[0m\u001b[0m\n\u001b[0m",
      "\u001b[1;32m~\\anaconda3\\lib\\site-packages\\pandas\\core\\generic.py\u001b[0m in \u001b[0;36m__getattr__\u001b[1;34m(self, name)\u001b[0m\n\u001b[0;32m   5485\u001b[0m         ):\n\u001b[0;32m   5486\u001b[0m             \u001b[1;32mreturn\u001b[0m \u001b[0mself\u001b[0m\u001b[1;33m[\u001b[0m\u001b[0mname\u001b[0m\u001b[1;33m]\u001b[0m\u001b[1;33m\u001b[0m\u001b[1;33m\u001b[0m\u001b[0m\n\u001b[1;32m-> 5487\u001b[1;33m         \u001b[1;32mreturn\u001b[0m \u001b[0mobject\u001b[0m\u001b[1;33m.\u001b[0m\u001b[0m__getattribute__\u001b[0m\u001b[1;33m(\u001b[0m\u001b[0mself\u001b[0m\u001b[1;33m,\u001b[0m \u001b[0mname\u001b[0m\u001b[1;33m)\u001b[0m\u001b[1;33m\u001b[0m\u001b[1;33m\u001b[0m\u001b[0m\n\u001b[0m\u001b[0;32m   5488\u001b[0m \u001b[1;33m\u001b[0m\u001b[0m\n\u001b[0;32m   5489\u001b[0m     \u001b[1;32mdef\u001b[0m \u001b[0m__setattr__\u001b[0m\u001b[1;33m(\u001b[0m\u001b[0mself\u001b[0m\u001b[1;33m,\u001b[0m \u001b[0mname\u001b[0m\u001b[1;33m:\u001b[0m \u001b[0mstr\u001b[0m\u001b[1;33m,\u001b[0m \u001b[0mvalue\u001b[0m\u001b[1;33m)\u001b[0m \u001b[1;33m->\u001b[0m \u001b[1;32mNone\u001b[0m\u001b[1;33m:\u001b[0m\u001b[1;33m\u001b[0m\u001b[1;33m\u001b[0m\u001b[0m\n",
      "\u001b[1;32m~\\anaconda3\\lib\\site-packages\\pandas\\core\\accessor.py\u001b[0m in \u001b[0;36m__get__\u001b[1;34m(self, obj, cls)\u001b[0m\n\u001b[0;32m    179\u001b[0m             \u001b[1;31m# we're accessing the attribute of the class, i.e., Dataset.geo\u001b[0m\u001b[1;33m\u001b[0m\u001b[1;33m\u001b[0m\u001b[0m\n\u001b[0;32m    180\u001b[0m             \u001b[1;32mreturn\u001b[0m \u001b[0mself\u001b[0m\u001b[1;33m.\u001b[0m\u001b[0m_accessor\u001b[0m\u001b[1;33m\u001b[0m\u001b[1;33m\u001b[0m\u001b[0m\n\u001b[1;32m--> 181\u001b[1;33m         \u001b[0maccessor_obj\u001b[0m \u001b[1;33m=\u001b[0m \u001b[0mself\u001b[0m\u001b[1;33m.\u001b[0m\u001b[0m_accessor\u001b[0m\u001b[1;33m(\u001b[0m\u001b[0mobj\u001b[0m\u001b[1;33m)\u001b[0m\u001b[1;33m\u001b[0m\u001b[1;33m\u001b[0m\u001b[0m\n\u001b[0m\u001b[0;32m    182\u001b[0m         \u001b[1;31m# Replace the property with the accessor object. Inspired by:\u001b[0m\u001b[1;33m\u001b[0m\u001b[1;33m\u001b[0m\u001b[0m\n\u001b[0;32m    183\u001b[0m         \u001b[1;31m# https://www.pydanny.com/cached-property.html\u001b[0m\u001b[1;33m\u001b[0m\u001b[1;33m\u001b[0m\u001b[0m\n",
      "\u001b[1;32m~\\anaconda3\\lib\\site-packages\\pandas\\core\\strings\\accessor.py\u001b[0m in \u001b[0;36m__init__\u001b[1;34m(self, data)\u001b[0m\n\u001b[0;32m    166\u001b[0m         \u001b[1;32mfrom\u001b[0m \u001b[0mpandas\u001b[0m\u001b[1;33m.\u001b[0m\u001b[0mcore\u001b[0m\u001b[1;33m.\u001b[0m\u001b[0marrays\u001b[0m\u001b[1;33m.\u001b[0m\u001b[0mstring_\u001b[0m \u001b[1;32mimport\u001b[0m \u001b[0mStringDtype\u001b[0m\u001b[1;33m\u001b[0m\u001b[1;33m\u001b[0m\u001b[0m\n\u001b[0;32m    167\u001b[0m \u001b[1;33m\u001b[0m\u001b[0m\n\u001b[1;32m--> 168\u001b[1;33m         \u001b[0mself\u001b[0m\u001b[1;33m.\u001b[0m\u001b[0m_inferred_dtype\u001b[0m \u001b[1;33m=\u001b[0m \u001b[0mself\u001b[0m\u001b[1;33m.\u001b[0m\u001b[0m_validate\u001b[0m\u001b[1;33m(\u001b[0m\u001b[0mdata\u001b[0m\u001b[1;33m)\u001b[0m\u001b[1;33m\u001b[0m\u001b[1;33m\u001b[0m\u001b[0m\n\u001b[0m\u001b[0;32m    169\u001b[0m         \u001b[0mself\u001b[0m\u001b[1;33m.\u001b[0m\u001b[0m_is_categorical\u001b[0m \u001b[1;33m=\u001b[0m \u001b[0mis_categorical_dtype\u001b[0m\u001b[1;33m(\u001b[0m\u001b[0mdata\u001b[0m\u001b[1;33m.\u001b[0m\u001b[0mdtype\u001b[0m\u001b[1;33m)\u001b[0m\u001b[1;33m\u001b[0m\u001b[1;33m\u001b[0m\u001b[0m\n\u001b[0;32m    170\u001b[0m         \u001b[0mself\u001b[0m\u001b[1;33m.\u001b[0m\u001b[0m_is_string\u001b[0m \u001b[1;33m=\u001b[0m \u001b[0misinstance\u001b[0m\u001b[1;33m(\u001b[0m\u001b[0mdata\u001b[0m\u001b[1;33m.\u001b[0m\u001b[0mdtype\u001b[0m\u001b[1;33m,\u001b[0m \u001b[0mStringDtype\u001b[0m\u001b[1;33m)\u001b[0m\u001b[1;33m\u001b[0m\u001b[1;33m\u001b[0m\u001b[0m\n",
      "\u001b[1;32m~\\anaconda3\\lib\\site-packages\\pandas\\core\\strings\\accessor.py\u001b[0m in \u001b[0;36m_validate\u001b[1;34m(data)\u001b[0m\n\u001b[0;32m    223\u001b[0m \u001b[1;33m\u001b[0m\u001b[0m\n\u001b[0;32m    224\u001b[0m         \u001b[1;32mif\u001b[0m \u001b[0minferred_dtype\u001b[0m \u001b[1;32mnot\u001b[0m \u001b[1;32min\u001b[0m \u001b[0mallowed_types\u001b[0m\u001b[1;33m:\u001b[0m\u001b[1;33m\u001b[0m\u001b[1;33m\u001b[0m\u001b[0m\n\u001b[1;32m--> 225\u001b[1;33m             \u001b[1;32mraise\u001b[0m \u001b[0mAttributeError\u001b[0m\u001b[1;33m(\u001b[0m\u001b[1;34m\"Can only use .str accessor with string values!\"\u001b[0m\u001b[1;33m)\u001b[0m\u001b[1;33m\u001b[0m\u001b[1;33m\u001b[0m\u001b[0m\n\u001b[0m\u001b[0;32m    226\u001b[0m         \u001b[1;32mreturn\u001b[0m \u001b[0minferred_dtype\u001b[0m\u001b[1;33m\u001b[0m\u001b[1;33m\u001b[0m\u001b[0m\n\u001b[0;32m    227\u001b[0m \u001b[1;33m\u001b[0m\u001b[0m\n",
      "\u001b[1;31mAttributeError\u001b[0m: Can only use .str accessor with string values!"
     ]
    }
   ],
   "source": [
    "#The column int_rate has percentage in front of it, removing those\n",
    "\n",
    "loan_dataset_final['int_rate'] = loan_dataset_final['int_rate'].str.replace('%','').astype(np.float64)\n"
   ]
  },
  {
   "cell_type": "code",
   "execution_count": 101,
   "id": "7cb047fd",
   "metadata": {
    "scrolled": true
   },
   "outputs": [
    {
     "name": "stderr",
     "output_type": "stream",
     "text": [
      "C:\\Users\\Aditya\\AppData\\Local\\Temp/ipykernel_6116/3647083591.py:6: FutureWarning: The default value of regex will change from True to False in a future version. In addition, single character regular expressions will *not* be treated as literal strings when regex=True.\n",
      "  loan_dataset_final['emp_length'] = loan_dataset_final['emp_length'].str.replace('+','')\n"
     ]
    }
   ],
   "source": [
    "#For the column emp_length, we remove descriptive text and turn it into a categorical variable with 10 bins\n",
    "\n",
    "loan_dataset_final['emp_length'] = loan_dataset_final['emp_length'].str.replace(' years','')\n",
    "loan_dataset_final['emp_length'] = loan_dataset_final['emp_length'].str.replace(' year','')\n",
    "\n",
    "loan_dataset_final['emp_length'] = loan_dataset_final['emp_length'].str.replace('+','')\n",
    "loan_dataset_final['emp_length'] = loan_dataset_final['emp_length'].str.replace('< 1','1')\n",
    "\n"
   ]
  },
  {
   "cell_type": "markdown",
   "id": "86c73225",
   "metadata": {},
   "source": [
    "For the target variable, **loan_status**, we can ignore the current loan row items as they will not provide us with insight for the required analysis"
   ]
  },
  {
   "cell_type": "code",
   "execution_count": 105,
   "id": "a15d3693",
   "metadata": {},
   "outputs": [],
   "source": [
    "#Drop the row items that contain loan_status as current\n",
    "\n",
    "loan_dataset_final.drop(loan_dataset_final[loan_dataset_final['loan_status']=='Current'].index, inplace=True)"
   ]
  },
  {
   "cell_type": "code",
   "execution_count": 109,
   "id": "04ae0333",
   "metadata": {},
   "outputs": [],
   "source": [
    "#Convert term column to string\n",
    "\n",
    "loan_dataset_final = loan_dataset_final.astype({'loan_status':'string'})\n",
    "\n",
    "#Replace Charged Off with 1 and Fully Paid with 0 fro convenience\n",
    "\n",
    "replace('loan_status', 'Charged Off', '1')\n",
    "replace('loan_status', 'Fully Paid', '0')\n",
    "\n",
    "#Convert back to int\n",
    "\n",
    "loan_dataset_final = loan_dataset_final.astype({'loan_status':np.int64})"
   ]
  },
  {
   "cell_type": "code",
   "execution_count": null,
   "id": "3c90ac00",
   "metadata": {},
   "outputs": [],
   "source": [
    "loan_dataset_final.info()"
   ]
  },
  {
   "cell_type": "markdown",
   "id": "a88fa5cc",
   "metadata": {},
   "source": [
    "# Data Analysis"
   ]
  },
  {
   "cell_type": "markdown",
   "id": "1d415e9c",
   "metadata": {},
   "source": [
    "## Univariate analysis\n",
    "\n",
    "We will first perform univariate analysis of the target loan_status variable with its counts, to see if we can gain any inferences out of it"
   ]
  },
  {
   "cell_type": "code",
   "execution_count": null,
   "id": "ba1e4049",
   "metadata": {},
   "outputs": [],
   "source": [
    "loan_dataset_final.plot.bar()"
   ]
  },
  {
   "cell_type": "code",
   "execution_count": null,
   "id": "1d68e443",
   "metadata": {},
   "outputs": [],
   "source": []
  }
 ],
 "metadata": {
  "kernelspec": {
   "display_name": "Python 3 (ipykernel)",
   "language": "python",
   "name": "python3"
  },
  "language_info": {
   "codemirror_mode": {
    "name": "ipython",
    "version": 3
   },
   "file_extension": ".py",
   "mimetype": "text/x-python",
   "name": "python",
   "nbconvert_exporter": "python",
   "pygments_lexer": "ipython3",
   "version": "3.9.7"
  }
 },
 "nbformat": 4,
 "nbformat_minor": 5
}
