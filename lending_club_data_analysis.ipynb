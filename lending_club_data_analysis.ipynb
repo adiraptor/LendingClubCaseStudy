{
 "cells": [
  {
   "cell_type": "markdown",
   "id": "ffbac679",
   "metadata": {},
   "source": [
    "# Lending Club Case Study"
   ]
  },
  {
   "cell_type": "code",
   "execution_count": 156,
   "id": "a2bf711e",
   "metadata": {},
   "outputs": [],
   "source": [
    "#Loading the libraries\n",
    "\n",
    "import pandas as pd\n",
    "import numpy as np\n"
   ]
  },
  {
   "cell_type": "code",
   "execution_count": 157,
   "id": "14e7c32c",
   "metadata": {},
   "outputs": [
    {
     "name": "stderr",
     "output_type": "stream",
     "text": [
      "C:\\Users\\Aditya\\anaconda3\\lib\\site-packages\\IPython\\core\\interactiveshell.py:3444: DtypeWarning: Columns (47) have mixed types.Specify dtype option on import or set low_memory=False.\n",
      "  exec(code_obj, self.user_global_ns, self.user_ns)\n"
     ]
    }
   ],
   "source": [
    "#Importing the data\n",
    "\n",
    "\n",
    "loan_csv_url = 'https://drive.google.com/file/d/1OM0BbebsnDoRsqYAIEDhJPMEE6VwrPIl/view?usp=sharing' #source csv url\n",
    "loan_dw_url = 'https://drive.google.com/uc?id=' + loan_csv_url.split('/')[-2] #create a download url using the file id from above\n",
    "\n",
    "loan_dataset = pd.read_csv(loan_dw_url)"
   ]
  },
  {
   "cell_type": "code",
   "execution_count": 158,
   "id": "1d166429",
   "metadata": {
    "scrolled": false
   },
   "outputs": [
    {
     "data": {
      "text/html": [
       "<div>\n",
       "<style scoped>\n",
       "    .dataframe tbody tr th:only-of-type {\n",
       "        vertical-align: middle;\n",
       "    }\n",
       "\n",
       "    .dataframe tbody tr th {\n",
       "        vertical-align: top;\n",
       "    }\n",
       "\n",
       "    .dataframe thead th {\n",
       "        text-align: right;\n",
       "    }\n",
       "</style>\n",
       "<table border=\"1\" class=\"dataframe\">\n",
       "  <thead>\n",
       "    <tr style=\"text-align: right;\">\n",
       "      <th></th>\n",
       "      <th>id</th>\n",
       "      <th>member_id</th>\n",
       "      <th>loan_amnt</th>\n",
       "      <th>funded_amnt</th>\n",
       "      <th>funded_amnt_inv</th>\n",
       "      <th>term</th>\n",
       "      <th>int_rate</th>\n",
       "      <th>installment</th>\n",
       "      <th>grade</th>\n",
       "      <th>sub_grade</th>\n",
       "      <th>...</th>\n",
       "      <th>num_tl_90g_dpd_24m</th>\n",
       "      <th>num_tl_op_past_12m</th>\n",
       "      <th>pct_tl_nvr_dlq</th>\n",
       "      <th>percent_bc_gt_75</th>\n",
       "      <th>pub_rec_bankruptcies</th>\n",
       "      <th>tax_liens</th>\n",
       "      <th>tot_hi_cred_lim</th>\n",
       "      <th>total_bal_ex_mort</th>\n",
       "      <th>total_bc_limit</th>\n",
       "      <th>total_il_high_credit_limit</th>\n",
       "    </tr>\n",
       "  </thead>\n",
       "  <tbody>\n",
       "    <tr>\n",
       "      <th>0</th>\n",
       "      <td>1077501</td>\n",
       "      <td>1296599</td>\n",
       "      <td>5000</td>\n",
       "      <td>5000</td>\n",
       "      <td>4975.0</td>\n",
       "      <td>36 months</td>\n",
       "      <td>10.65%</td>\n",
       "      <td>162.87</td>\n",
       "      <td>B</td>\n",
       "      <td>B2</td>\n",
       "      <td>...</td>\n",
       "      <td>NaN</td>\n",
       "      <td>NaN</td>\n",
       "      <td>NaN</td>\n",
       "      <td>NaN</td>\n",
       "      <td>0.0</td>\n",
       "      <td>0.0</td>\n",
       "      <td>NaN</td>\n",
       "      <td>NaN</td>\n",
       "      <td>NaN</td>\n",
       "      <td>NaN</td>\n",
       "    </tr>\n",
       "    <tr>\n",
       "      <th>1</th>\n",
       "      <td>1077430</td>\n",
       "      <td>1314167</td>\n",
       "      <td>2500</td>\n",
       "      <td>2500</td>\n",
       "      <td>2500.0</td>\n",
       "      <td>60 months</td>\n",
       "      <td>15.27%</td>\n",
       "      <td>59.83</td>\n",
       "      <td>C</td>\n",
       "      <td>C4</td>\n",
       "      <td>...</td>\n",
       "      <td>NaN</td>\n",
       "      <td>NaN</td>\n",
       "      <td>NaN</td>\n",
       "      <td>NaN</td>\n",
       "      <td>0.0</td>\n",
       "      <td>0.0</td>\n",
       "      <td>NaN</td>\n",
       "      <td>NaN</td>\n",
       "      <td>NaN</td>\n",
       "      <td>NaN</td>\n",
       "    </tr>\n",
       "    <tr>\n",
       "      <th>2</th>\n",
       "      <td>1077175</td>\n",
       "      <td>1313524</td>\n",
       "      <td>2400</td>\n",
       "      <td>2400</td>\n",
       "      <td>2400.0</td>\n",
       "      <td>36 months</td>\n",
       "      <td>15.96%</td>\n",
       "      <td>84.33</td>\n",
       "      <td>C</td>\n",
       "      <td>C5</td>\n",
       "      <td>...</td>\n",
       "      <td>NaN</td>\n",
       "      <td>NaN</td>\n",
       "      <td>NaN</td>\n",
       "      <td>NaN</td>\n",
       "      <td>0.0</td>\n",
       "      <td>0.0</td>\n",
       "      <td>NaN</td>\n",
       "      <td>NaN</td>\n",
       "      <td>NaN</td>\n",
       "      <td>NaN</td>\n",
       "    </tr>\n",
       "    <tr>\n",
       "      <th>3</th>\n",
       "      <td>1076863</td>\n",
       "      <td>1277178</td>\n",
       "      <td>10000</td>\n",
       "      <td>10000</td>\n",
       "      <td>10000.0</td>\n",
       "      <td>36 months</td>\n",
       "      <td>13.49%</td>\n",
       "      <td>339.31</td>\n",
       "      <td>C</td>\n",
       "      <td>C1</td>\n",
       "      <td>...</td>\n",
       "      <td>NaN</td>\n",
       "      <td>NaN</td>\n",
       "      <td>NaN</td>\n",
       "      <td>NaN</td>\n",
       "      <td>0.0</td>\n",
       "      <td>0.0</td>\n",
       "      <td>NaN</td>\n",
       "      <td>NaN</td>\n",
       "      <td>NaN</td>\n",
       "      <td>NaN</td>\n",
       "    </tr>\n",
       "    <tr>\n",
       "      <th>4</th>\n",
       "      <td>1075358</td>\n",
       "      <td>1311748</td>\n",
       "      <td>3000</td>\n",
       "      <td>3000</td>\n",
       "      <td>3000.0</td>\n",
       "      <td>60 months</td>\n",
       "      <td>12.69%</td>\n",
       "      <td>67.79</td>\n",
       "      <td>B</td>\n",
       "      <td>B5</td>\n",
       "      <td>...</td>\n",
       "      <td>NaN</td>\n",
       "      <td>NaN</td>\n",
       "      <td>NaN</td>\n",
       "      <td>NaN</td>\n",
       "      <td>0.0</td>\n",
       "      <td>0.0</td>\n",
       "      <td>NaN</td>\n",
       "      <td>NaN</td>\n",
       "      <td>NaN</td>\n",
       "      <td>NaN</td>\n",
       "    </tr>\n",
       "  </tbody>\n",
       "</table>\n",
       "<p>5 rows × 111 columns</p>\n",
       "</div>"
      ],
      "text/plain": [
       "        id  member_id  loan_amnt  funded_amnt  funded_amnt_inv        term  \\\n",
       "0  1077501    1296599       5000         5000           4975.0   36 months   \n",
       "1  1077430    1314167       2500         2500           2500.0   60 months   \n",
       "2  1077175    1313524       2400         2400           2400.0   36 months   \n",
       "3  1076863    1277178      10000        10000          10000.0   36 months   \n",
       "4  1075358    1311748       3000         3000           3000.0   60 months   \n",
       "\n",
       "  int_rate  installment grade sub_grade  ... num_tl_90g_dpd_24m  \\\n",
       "0   10.65%       162.87     B        B2  ...                NaN   \n",
       "1   15.27%        59.83     C        C4  ...                NaN   \n",
       "2   15.96%        84.33     C        C5  ...                NaN   \n",
       "3   13.49%       339.31     C        C1  ...                NaN   \n",
       "4   12.69%        67.79     B        B5  ...                NaN   \n",
       "\n",
       "  num_tl_op_past_12m pct_tl_nvr_dlq  percent_bc_gt_75 pub_rec_bankruptcies  \\\n",
       "0                NaN            NaN               NaN                  0.0   \n",
       "1                NaN            NaN               NaN                  0.0   \n",
       "2                NaN            NaN               NaN                  0.0   \n",
       "3                NaN            NaN               NaN                  0.0   \n",
       "4                NaN            NaN               NaN                  0.0   \n",
       "\n",
       "  tax_liens tot_hi_cred_lim total_bal_ex_mort total_bc_limit  \\\n",
       "0       0.0             NaN               NaN            NaN   \n",
       "1       0.0             NaN               NaN            NaN   \n",
       "2       0.0             NaN               NaN            NaN   \n",
       "3       0.0             NaN               NaN            NaN   \n",
       "4       0.0             NaN               NaN            NaN   \n",
       "\n",
       "  total_il_high_credit_limit  \n",
       "0                        NaN  \n",
       "1                        NaN  \n",
       "2                        NaN  \n",
       "3                        NaN  \n",
       "4                        NaN  \n",
       "\n",
       "[5 rows x 111 columns]"
      ]
     },
     "execution_count": 158,
     "metadata": {},
     "output_type": "execute_result"
    }
   ],
   "source": [
    "#Data Understanding\n",
    "\n",
    "loan_dataset.head()"
   ]
  },
  {
   "cell_type": "markdown",
   "id": "108f760a",
   "metadata": {},
   "source": [
    "## Dataset Description\n",
    "\n",
    "The given dataset is a profile of all the customers who have requested for loans from lending club in the period 2007 - 2011. \n",
    "\n",
    "This includes the loan amount details, and some customer behavior details whcih were collected with the purpose of getting a holistic view of their risk profiles\n",
    "\n",
    "\n",
    "## Problem Statement\n",
    "\n",
    "The objective of the analysis done below is to use this profiling information to predict whether or not a customer will default on his/her loan payments.\n",
    "\n",
    "High delinquency rate on loans leading to losses for the company is a reason why we require such an analysis to be conducted.\n",
    "\n",
    "The target variable for our case study will be the **loan_status** variable\n",
    "\n",
    "\n",
    "## Solution Approach\n",
    "\n",
    "Since the dataset and the outcome are very specific and restricted to EDA, we have decided to go with only univariate and bivariate analysis, for the **loan_status** variable. \n",
    "\n",
    "The key inference that we want to deduce out of this analysis are the indicators, which lead to the loan being defaulted, so that given values for those key indicators, it can be predicted whether the loan is going to be defaulted or not.\n",
    "\n"
   ]
  },
  {
   "cell_type": "markdown",
   "id": "1827ebb8",
   "metadata": {},
   "source": [
    "## Data Cleaning"
   ]
  },
  {
   "cell_type": "code",
   "execution_count": 159,
   "id": "068b14e9",
   "metadata": {},
   "outputs": [
    {
     "name": "stdout",
     "output_type": "stream",
     "text": [
      "<class 'pandas.core.frame.DataFrame'>\n",
      "RangeIndex: 39717 entries, 0 to 39716\n",
      "Data columns (total 57 columns):\n",
      " #   Column                      Non-Null Count  Dtype  \n",
      "---  ------                      --------------  -----  \n",
      " 0   id                          39717 non-null  int64  \n",
      " 1   member_id                   39717 non-null  int64  \n",
      " 2   loan_amnt                   39717 non-null  int64  \n",
      " 3   funded_amnt                 39717 non-null  int64  \n",
      " 4   funded_amnt_inv             39717 non-null  float64\n",
      " 5   term                        39717 non-null  object \n",
      " 6   int_rate                    39717 non-null  object \n",
      " 7   installment                 39717 non-null  float64\n",
      " 8   grade                       39717 non-null  object \n",
      " 9   sub_grade                   39717 non-null  object \n",
      " 10  emp_title                   37258 non-null  object \n",
      " 11  emp_length                  38642 non-null  object \n",
      " 12  home_ownership              39717 non-null  object \n",
      " 13  annual_inc                  39717 non-null  float64\n",
      " 14  verification_status         39717 non-null  object \n",
      " 15  issue_d                     39717 non-null  object \n",
      " 16  loan_status                 39717 non-null  object \n",
      " 17  pymnt_plan                  39717 non-null  object \n",
      " 18  url                         39717 non-null  object \n",
      " 19  desc                        26777 non-null  object \n",
      " 20  purpose                     39717 non-null  object \n",
      " 21  title                       39706 non-null  object \n",
      " 22  zip_code                    39717 non-null  object \n",
      " 23  addr_state                  39717 non-null  object \n",
      " 24  dti                         39717 non-null  float64\n",
      " 25  delinq_2yrs                 39717 non-null  int64  \n",
      " 26  earliest_cr_line            39717 non-null  object \n",
      " 27  inq_last_6mths              39717 non-null  int64  \n",
      " 28  mths_since_last_delinq      14035 non-null  float64\n",
      " 29  mths_since_last_record      2786 non-null   float64\n",
      " 30  open_acc                    39717 non-null  int64  \n",
      " 31  pub_rec                     39717 non-null  int64  \n",
      " 32  revol_bal                   39717 non-null  int64  \n",
      " 33  revol_util                  39667 non-null  object \n",
      " 34  total_acc                   39717 non-null  int64  \n",
      " 35  initial_list_status         39717 non-null  object \n",
      " 36  out_prncp                   39717 non-null  float64\n",
      " 37  out_prncp_inv               39717 non-null  float64\n",
      " 38  total_pymnt                 39717 non-null  float64\n",
      " 39  total_pymnt_inv             39717 non-null  float64\n",
      " 40  total_rec_prncp             39717 non-null  float64\n",
      " 41  total_rec_int               39717 non-null  float64\n",
      " 42  total_rec_late_fee          39717 non-null  float64\n",
      " 43  recoveries                  39717 non-null  float64\n",
      " 44  collection_recovery_fee     39717 non-null  float64\n",
      " 45  last_pymnt_d                39646 non-null  object \n",
      " 46  last_pymnt_amnt             39717 non-null  float64\n",
      " 47  next_pymnt_d                1140 non-null   object \n",
      " 48  last_credit_pull_d          39715 non-null  object \n",
      " 49  collections_12_mths_ex_med  39661 non-null  float64\n",
      " 50  policy_code                 39717 non-null  int64  \n",
      " 51  application_type            39717 non-null  object \n",
      " 52  acc_now_delinq              39717 non-null  int64  \n",
      " 53  chargeoff_within_12_mths    39661 non-null  float64\n",
      " 54  delinq_amnt                 39717 non-null  int64  \n",
      " 55  pub_rec_bankruptcies        39020 non-null  float64\n",
      " 56  tax_liens                   39678 non-null  float64\n",
      "dtypes: float64(20), int64(13), object(24)\n",
      "memory usage: 17.3+ MB\n"
     ]
    }
   ],
   "source": [
    "#Dropping all columns with NA values\n",
    "\n",
    "loan_dataset.dropna(axis=1, how='all', inplace = True)\n",
    "\n",
    "loan_dataset.info()"
   ]
  },
  {
   "cell_type": "markdown",
   "id": "16efae85",
   "metadata": {},
   "source": [
    "We will also eliminate those columns whose value does not change at all, since plotting them against the target variable will not result in a meaningful analysis"
   ]
  },
  {
   "cell_type": "code",
   "execution_count": 160,
   "id": "25440114",
   "metadata": {},
   "outputs": [
    {
     "name": "stdout",
     "output_type": "stream",
     "text": [
      "<class 'pandas.core.frame.DataFrame'>\n",
      "RangeIndex: 39717 entries, 0 to 39716\n",
      "Data columns (total 48 columns):\n",
      " #   Column                   Non-Null Count  Dtype  \n",
      "---  ------                   --------------  -----  \n",
      " 0   id                       39717 non-null  int64  \n",
      " 1   member_id                39717 non-null  int64  \n",
      " 2   loan_amnt                39717 non-null  int64  \n",
      " 3   funded_amnt              39717 non-null  int64  \n",
      " 4   funded_amnt_inv          39717 non-null  float64\n",
      " 5   term                     39717 non-null  object \n",
      " 6   int_rate                 39717 non-null  object \n",
      " 7   installment              39717 non-null  float64\n",
      " 8   grade                    39717 non-null  object \n",
      " 9   sub_grade                39717 non-null  object \n",
      " 10  emp_title                37258 non-null  object \n",
      " 11  emp_length               38642 non-null  object \n",
      " 12  home_ownership           39717 non-null  object \n",
      " 13  annual_inc               39717 non-null  float64\n",
      " 14  verification_status      39717 non-null  object \n",
      " 15  issue_d                  39717 non-null  object \n",
      " 16  loan_status              39717 non-null  object \n",
      " 17  url                      39717 non-null  object \n",
      " 18  desc                     26777 non-null  object \n",
      " 19  purpose                  39717 non-null  object \n",
      " 20  title                    39706 non-null  object \n",
      " 21  zip_code                 39717 non-null  object \n",
      " 22  addr_state               39717 non-null  object \n",
      " 23  dti                      39717 non-null  float64\n",
      " 24  delinq_2yrs              39717 non-null  int64  \n",
      " 25  earliest_cr_line         39717 non-null  object \n",
      " 26  inq_last_6mths           39717 non-null  int64  \n",
      " 27  mths_since_last_delinq   14035 non-null  float64\n",
      " 28  mths_since_last_record   2786 non-null   float64\n",
      " 29  open_acc                 39717 non-null  int64  \n",
      " 30  pub_rec                  39717 non-null  int64  \n",
      " 31  revol_bal                39717 non-null  int64  \n",
      " 32  revol_util               39667 non-null  object \n",
      " 33  total_acc                39717 non-null  int64  \n",
      " 34  out_prncp                39717 non-null  float64\n",
      " 35  out_prncp_inv            39717 non-null  float64\n",
      " 36  total_pymnt              39717 non-null  float64\n",
      " 37  total_pymnt_inv          39717 non-null  float64\n",
      " 38  total_rec_prncp          39717 non-null  float64\n",
      " 39  total_rec_int            39717 non-null  float64\n",
      " 40  total_rec_late_fee       39717 non-null  float64\n",
      " 41  recoveries               39717 non-null  float64\n",
      " 42  collection_recovery_fee  39717 non-null  float64\n",
      " 43  last_pymnt_d             39646 non-null  object \n",
      " 44  last_pymnt_amnt          39717 non-null  float64\n",
      " 45  next_pymnt_d             1140 non-null   object \n",
      " 46  last_credit_pull_d       39715 non-null  object \n",
      " 47  pub_rec_bankruptcies     39020 non-null  float64\n",
      "dtypes: float64(17), int64(10), object(21)\n",
      "memory usage: 14.5+ MB\n"
     ]
    }
   ],
   "source": [
    "#Removing all the columns which have singular values\n",
    "\n",
    "loan_dataset = loan_dataset[[col for col in loan_dataset.columns if loan_dataset[col].nunique() > 1]]\n",
    "\n",
    "loan_dataset.info()"
   ]
  },
  {
   "cell_type": "markdown",
   "id": "1075988d",
   "metadata": {},
   "source": [
    "## Feature Selection\n",
    "\n",
    "Based on the understanding from the data dictionary, elimintating those columns which are of no use to the problem statement, or in other words, do not affect the target variable - **loan_status**\n",
    "\n",
    "\n",
    "* id - The primary key of the dataset, used to uniquely identify each loan assigned by lending club, its randomly generated, so wont contain any patterns\n",
    "* member_id - Again, randomly generated id for the member, assigned by Lending Club\n",
    "* desc - Loan description provied by the borrower - this is a sentence in natural language given by the borrower, in no standardized format, hence there is no way to convert this into a categorical or continuous variable without applying NLP. Hence, disregarding this as well\n",
    "* title - Loan title provided by the borrower, same as desc\n",
    "* url - This is the url for the lending club web page where the loan data for that particluar listing can be found - Not a defining factor for analysis\n",
    "* zip code - The zip code of the boorower - it is masked and also doesnt provide necessary information towards predicting whether the borrower will default or not\n",
    "\n",
    "* #### Member behaviour features -  \n",
    "\n",
    "These features are representative of the member's patterns and habits while repaying the loans, data which would not be avaiable to us while the applicant is filing an application for a loan\n",
    "\n",
    "   * delinq_2yrs\n",
    "   * mths_since_last_delinq\n",
    "   * mths_since_last_record\n",
    "\n",
    "* #### Ongoing Loan features -\n",
    "\n",
    "These features describe the details for the ongoing loan instalments and payments, which also would not be relevant/available at the time of application\n",
    "\n",
    " *  out_prncp                \n",
    " *  out_prncp_inv            \n",
    " *  total_pymnt              \n",
    " *  total_pymnt_inv          \n",
    " *  total_rec_prncp          \n",
    " *  total_rec_int            \n",
    " *  total_rec_late_fee       \n",
    " *  recoveries               \n",
    " *  collection_recovery_fee  \n",
    " *  last_pymnt_d             \n",
    " *  last_pymnt_amnt          \n",
    " *  next_pymnt_d\n",
    " *  last_credit_pull_d\n"
   ]
  },
  {
   "cell_type": "code",
   "execution_count": 261,
   "id": "1675a2d2",
   "metadata": {},
   "outputs": [
    {
     "name": "stdout",
     "output_type": "stream",
     "text": [
      "<class 'pandas.core.frame.DataFrame'>\n",
      "RangeIndex: 39717 entries, 0 to 39716\n",
      "Data columns (total 26 columns):\n",
      " #   Column                Non-Null Count  Dtype  \n",
      "---  ------                --------------  -----  \n",
      " 0   loan_amnt             39717 non-null  int64  \n",
      " 1   funded_amnt           39717 non-null  int64  \n",
      " 2   funded_amnt_inv       39717 non-null  float64\n",
      " 3   term                  39717 non-null  object \n",
      " 4   int_rate              39717 non-null  object \n",
      " 5   installment           39717 non-null  float64\n",
      " 6   grade                 39717 non-null  object \n",
      " 7   sub_grade             39717 non-null  object \n",
      " 8   emp_title             37258 non-null  object \n",
      " 9   emp_length            38642 non-null  object \n",
      " 10  home_ownership        39717 non-null  object \n",
      " 11  annual_inc            39717 non-null  float64\n",
      " 12  verification_status   39717 non-null  object \n",
      " 13  issue_d               39717 non-null  object \n",
      " 14  loan_status           39717 non-null  object \n",
      " 15  purpose               39717 non-null  object \n",
      " 16  addr_state            39717 non-null  object \n",
      " 17  dti                   39717 non-null  float64\n",
      " 18  earliest_cr_line      39717 non-null  object \n",
      " 19  inq_last_6mths        39717 non-null  int64  \n",
      " 20  open_acc              39717 non-null  int64  \n",
      " 21  pub_rec               39717 non-null  int64  \n",
      " 22  revol_bal             39717 non-null  int64  \n",
      " 23  revol_util            39667 non-null  object \n",
      " 24  total_acc             39717 non-null  int64  \n",
      " 25  pub_rec_bankruptcies  39020 non-null  float64\n",
      "dtypes: float64(5), int64(7), object(14)\n",
      "memory usage: 7.9+ MB\n"
     ]
    }
   ],
   "source": [
    "# Only keeping relevant columns in the dataset\n",
    "\n",
    "loan_dataset_final = loan_dataset.drop(['id', 'member_id', 'desc', 'title', 'url', 'zip_code', 'delinq_2yrs', 'mths_since_last_delinq', 'mths_since_last_record', 'out_prncp', 'out_prncp_inv', 'total_pymnt', 'total_pymnt_inv', 'total_rec_prncp', 'total_rec_int', 'total_rec_late_fee', 'recoveries', 'collection_recovery_fee', 'last_pymnt_d', 'last_pymnt_amnt', 'next_pymnt_d', 'last_credit_pull_d'], axis=1, inplace = False)\n",
    "\n",
    "loan_dataset_final.info()"
   ]
  },
  {
   "cell_type": "markdown",
   "id": "c92432c5",
   "metadata": {},
   "source": [
    "After performing feature selection, we are left with 27 relevant columns in the dataset. We will now perform missing value and outlier treatment for these columns before proceeding with transformation"
   ]
  },
  {
   "cell_type": "markdown",
   "id": "c018e0c8",
   "metadata": {},
   "source": [
    "## Missing Value Treatment"
   ]
  },
  {
   "cell_type": "markdown",
   "id": "2800ab79",
   "metadata": {},
   "source": [
    "We will first define some reusable functions for dealing with missing values"
   ]
  },
  {
   "cell_type": "code",
   "execution_count": 262,
   "id": "cdc28a7b",
   "metadata": {},
   "outputs": [],
   "source": [
    "#Defining a function to calculate percentage of missing values for a column\n",
    "\n",
    "def percentage_missing(column_name):\n",
    "    \n",
    "    # Percentage of the ratio of - sum of na values of the column to the count of the column\n",
    "    column_percent_missing = (loan_dataset_final[column_name].isna().sum()/loan_dataset_final[column_name].count())*100\n",
    "    \n",
    "    return column_percent_missing\n",
    "\n",
    "\n",
    "#Defining a function to replace n/a values with an imputation\n",
    "\n",
    "def replace_na(column_name, replacement):\n",
    "    \n",
    "    #Find the coordinates of the n/a valued rows of the given column, and replace them with the value given\n",
    "    loan_dataset_final.loc[loan_dataset_final[column_name].isna()==True, column_name] = replacement"
   ]
  },
  {
   "cell_type": "markdown",
   "id": "2835e55e",
   "metadata": {},
   "source": [
    "From inspection of the dataset, the first column that actually has n/a or missing values is the emp_title column. It has both blanks as well as N/A"
   ]
  },
  {
   "cell_type": "code",
   "execution_count": 263,
   "id": "3b3c5de6",
   "metadata": {},
   "outputs": [
    {
     "name": "stdout",
     "output_type": "stream",
     "text": [
      "6.599924848354716\n"
     ]
    }
   ],
   "source": [
    "#Getting the count of missing values from the column\n",
    "\n",
    "emp_title_percent_missing = percentage_missing('emp_title')\n",
    "\n",
    "print(emp_title_percent_missing)"
   ]
  },
  {
   "cell_type": "markdown",
   "id": "c12b2c5a",
   "metadata": {},
   "source": [
    "Here, as the percentage of missing values is small, it makes sense to impute them, however as the column describes employment of the member, it doesnt make sense to replace it with the mode of the column as we would with a categorical variable. Hence we can replace it with 'Unknown', which would become another bin for the values"
   ]
  },
  {
   "cell_type": "code",
   "execution_count": 264,
   "id": "7c7c2dd2",
   "metadata": {},
   "outputs": [
    {
     "data": {
      "text/plain": [
       "0                           Unknown\n",
       "1                             Ryder\n",
       "2                           Unknown\n",
       "3               AIR RESOURCES BOARD\n",
       "4          University Medical Group\n",
       "                    ...            \n",
       "39712               FiSite Research\n",
       "39713    Squarewave Solutions, Ltd.\n",
       "39714                       Unknown\n",
       "39715                       Unknown\n",
       "39716              Evergreen Center\n",
       "Name: emp_title, Length: 39717, dtype: object"
      ]
     },
     "execution_count": 264,
     "metadata": {},
     "output_type": "execute_result"
    }
   ],
   "source": [
    "#Replace all n/a and blank values with unknown\n",
    "\n",
    "replace_na('emp_title','Unknown')\n",
    "\n",
    "loan_dataset_final['emp_title']"
   ]
  },
  {
   "cell_type": "code",
   "execution_count": 265,
   "id": "53d2daee",
   "metadata": {},
   "outputs": [
    {
     "name": "stdout",
     "output_type": "stream",
     "text": [
      "2.7819471041871537\n"
     ]
    },
    {
     "data": {
      "text/plain": [
       "0"
      ]
     },
     "execution_count": 265,
     "metadata": {},
     "output_type": "execute_result"
    }
   ],
   "source": [
    "#Similar treatment can be given to the emp_length column as well\n",
    "\n",
    "emp_len_percent_missing = percentage_missing('emp_length')\n",
    "\n",
    "print(emp_len_percent_missing)\n",
    "\n",
    "replace_na('emp_length','Unknown')\n",
    "\n",
    "loan_dataset_final['emp_length'].isna().sum()\n"
   ]
  },
  {
   "cell_type": "markdown",
   "id": "df037337",
   "metadata": {},
   "source": [
    "The next column with missing values is the **revol_util** column, which, according to [this](https://www.lendingclub.com/loans/resource-center/what-is-credit-utilization) link, is the ratio of your currently used credit balance to the total credit limit.\n",
    "\n",
    "Thus, it is a dependent variable on the **revol_bal** variable. We can analyse the values of missing values against the total_bal column"
   ]
  },
  {
   "cell_type": "code",
   "execution_count": 266,
   "id": "ae987f90",
   "metadata": {
    "scrolled": true
   },
   "outputs": [
    {
     "data": {
      "text/html": [
       "<div>\n",
       "<style scoped>\n",
       "    .dataframe tbody tr th:only-of-type {\n",
       "        vertical-align: middle;\n",
       "    }\n",
       "\n",
       "    .dataframe tbody tr th {\n",
       "        vertical-align: top;\n",
       "    }\n",
       "\n",
       "    .dataframe thead th {\n",
       "        text-align: right;\n",
       "    }\n",
       "</style>\n",
       "<table border=\"1\" class=\"dataframe\">\n",
       "  <thead>\n",
       "    <tr style=\"text-align: right;\">\n",
       "      <th></th>\n",
       "      <th>revol_bal</th>\n",
       "      <th>revol_util</th>\n",
       "    </tr>\n",
       "  </thead>\n",
       "  <tbody>\n",
       "    <tr>\n",
       "      <th>3565</th>\n",
       "      <td>0</td>\n",
       "      <td>NaN</td>\n",
       "    </tr>\n",
       "    <tr>\n",
       "      <th>4714</th>\n",
       "      <td>0</td>\n",
       "      <td>NaN</td>\n",
       "    </tr>\n",
       "    <tr>\n",
       "      <th>4943</th>\n",
       "      <td>0</td>\n",
       "      <td>NaN</td>\n",
       "    </tr>\n",
       "    <tr>\n",
       "      <th>11282</th>\n",
       "      <td>0</td>\n",
       "      <td>NaN</td>\n",
       "    </tr>\n",
       "    <tr>\n",
       "      <th>12042</th>\n",
       "      <td>0</td>\n",
       "      <td>NaN</td>\n",
       "    </tr>\n",
       "    <tr>\n",
       "      <th>12147</th>\n",
       "      <td>0</td>\n",
       "      <td>NaN</td>\n",
       "    </tr>\n",
       "    <tr>\n",
       "      <th>13891</th>\n",
       "      <td>0</td>\n",
       "      <td>NaN</td>\n",
       "    </tr>\n",
       "    <tr>\n",
       "      <th>17985</th>\n",
       "      <td>0</td>\n",
       "      <td>NaN</td>\n",
       "    </tr>\n",
       "    <tr>\n",
       "      <th>18184</th>\n",
       "      <td>0</td>\n",
       "      <td>NaN</td>\n",
       "    </tr>\n",
       "    <tr>\n",
       "      <th>21604</th>\n",
       "      <td>0</td>\n",
       "      <td>NaN</td>\n",
       "    </tr>\n",
       "    <tr>\n",
       "      <th>24663</th>\n",
       "      <td>0</td>\n",
       "      <td>NaN</td>\n",
       "    </tr>\n",
       "    <tr>\n",
       "      <th>24738</th>\n",
       "      <td>0</td>\n",
       "      <td>NaN</td>\n",
       "    </tr>\n",
       "    <tr>\n",
       "      <th>24984</th>\n",
       "      <td>0</td>\n",
       "      <td>NaN</td>\n",
       "    </tr>\n",
       "    <tr>\n",
       "      <th>25261</th>\n",
       "      <td>0</td>\n",
       "      <td>NaN</td>\n",
       "    </tr>\n",
       "    <tr>\n",
       "      <th>25977</th>\n",
       "      <td>0</td>\n",
       "      <td>NaN</td>\n",
       "    </tr>\n",
       "    <tr>\n",
       "      <th>26649</th>\n",
       "      <td>0</td>\n",
       "      <td>NaN</td>\n",
       "    </tr>\n",
       "    <tr>\n",
       "      <th>26724</th>\n",
       "      <td>0</td>\n",
       "      <td>NaN</td>\n",
       "    </tr>\n",
       "    <tr>\n",
       "      <th>26813</th>\n",
       "      <td>0</td>\n",
       "      <td>NaN</td>\n",
       "    </tr>\n",
       "    <tr>\n",
       "      <th>28170</th>\n",
       "      <td>0</td>\n",
       "      <td>NaN</td>\n",
       "    </tr>\n",
       "    <tr>\n",
       "      <th>28685</th>\n",
       "      <td>0</td>\n",
       "      <td>NaN</td>\n",
       "    </tr>\n",
       "    <tr>\n",
       "      <th>28938</th>\n",
       "      <td>0</td>\n",
       "      <td>NaN</td>\n",
       "    </tr>\n",
       "    <tr>\n",
       "      <th>28986</th>\n",
       "      <td>0</td>\n",
       "      <td>NaN</td>\n",
       "    </tr>\n",
       "    <tr>\n",
       "      <th>29236</th>\n",
       "      <td>0</td>\n",
       "      <td>NaN</td>\n",
       "    </tr>\n",
       "    <tr>\n",
       "      <th>29248</th>\n",
       "      <td>0</td>\n",
       "      <td>NaN</td>\n",
       "    </tr>\n",
       "    <tr>\n",
       "      <th>31862</th>\n",
       "      <td>0</td>\n",
       "      <td>NaN</td>\n",
       "    </tr>\n",
       "    <tr>\n",
       "      <th>31939</th>\n",
       "      <td>0</td>\n",
       "      <td>NaN</td>\n",
       "    </tr>\n",
       "    <tr>\n",
       "      <th>32715</th>\n",
       "      <td>0</td>\n",
       "      <td>NaN</td>\n",
       "    </tr>\n",
       "    <tr>\n",
       "      <th>33078</th>\n",
       "      <td>0</td>\n",
       "      <td>NaN</td>\n",
       "    </tr>\n",
       "    <tr>\n",
       "      <th>33490</th>\n",
       "      <td>0</td>\n",
       "      <td>NaN</td>\n",
       "    </tr>\n",
       "    <tr>\n",
       "      <th>33534</th>\n",
       "      <td>0</td>\n",
       "      <td>NaN</td>\n",
       "    </tr>\n",
       "    <tr>\n",
       "      <th>34268</th>\n",
       "      <td>0</td>\n",
       "      <td>NaN</td>\n",
       "    </tr>\n",
       "    <tr>\n",
       "      <th>34849</th>\n",
       "      <td>0</td>\n",
       "      <td>NaN</td>\n",
       "    </tr>\n",
       "    <tr>\n",
       "      <th>35851</th>\n",
       "      <td>0</td>\n",
       "      <td>NaN</td>\n",
       "    </tr>\n",
       "    <tr>\n",
       "      <th>36209</th>\n",
       "      <td>0</td>\n",
       "      <td>NaN</td>\n",
       "    </tr>\n",
       "    <tr>\n",
       "      <th>36473</th>\n",
       "      <td>0</td>\n",
       "      <td>NaN</td>\n",
       "    </tr>\n",
       "    <tr>\n",
       "      <th>36859</th>\n",
       "      <td>0</td>\n",
       "      <td>NaN</td>\n",
       "    </tr>\n",
       "    <tr>\n",
       "      <th>37042</th>\n",
       "      <td>0</td>\n",
       "      <td>NaN</td>\n",
       "    </tr>\n",
       "    <tr>\n",
       "      <th>37268</th>\n",
       "      <td>0</td>\n",
       "      <td>NaN</td>\n",
       "    </tr>\n",
       "    <tr>\n",
       "      <th>37540</th>\n",
       "      <td>49238</td>\n",
       "      <td>NaN</td>\n",
       "    </tr>\n",
       "    <tr>\n",
       "      <th>37709</th>\n",
       "      <td>0</td>\n",
       "      <td>NaN</td>\n",
       "    </tr>\n",
       "    <tr>\n",
       "      <th>37757</th>\n",
       "      <td>0</td>\n",
       "      <td>NaN</td>\n",
       "    </tr>\n",
       "    <tr>\n",
       "      <th>37778</th>\n",
       "      <td>0</td>\n",
       "      <td>NaN</td>\n",
       "    </tr>\n",
       "    <tr>\n",
       "      <th>37911</th>\n",
       "      <td>0</td>\n",
       "      <td>NaN</td>\n",
       "    </tr>\n",
       "    <tr>\n",
       "      <th>38201</th>\n",
       "      <td>0</td>\n",
       "      <td>NaN</td>\n",
       "    </tr>\n",
       "    <tr>\n",
       "      <th>38457</th>\n",
       "      <td>0</td>\n",
       "      <td>NaN</td>\n",
       "    </tr>\n",
       "    <tr>\n",
       "      <th>38524</th>\n",
       "      <td>0</td>\n",
       "      <td>NaN</td>\n",
       "    </tr>\n",
       "    <tr>\n",
       "      <th>38899</th>\n",
       "      <td>0</td>\n",
       "      <td>NaN</td>\n",
       "    </tr>\n",
       "    <tr>\n",
       "      <th>38917</th>\n",
       "      <td>0</td>\n",
       "      <td>NaN</td>\n",
       "    </tr>\n",
       "    <tr>\n",
       "      <th>38949</th>\n",
       "      <td>0</td>\n",
       "      <td>NaN</td>\n",
       "    </tr>\n",
       "    <tr>\n",
       "      <th>38970</th>\n",
       "      <td>0</td>\n",
       "      <td>NaN</td>\n",
       "    </tr>\n",
       "  </tbody>\n",
       "</table>\n",
       "</div>"
      ],
      "text/plain": [
       "       revol_bal revol_util\n",
       "3565           0        NaN\n",
       "4714           0        NaN\n",
       "4943           0        NaN\n",
       "11282          0        NaN\n",
       "12042          0        NaN\n",
       "12147          0        NaN\n",
       "13891          0        NaN\n",
       "17985          0        NaN\n",
       "18184          0        NaN\n",
       "21604          0        NaN\n",
       "24663          0        NaN\n",
       "24738          0        NaN\n",
       "24984          0        NaN\n",
       "25261          0        NaN\n",
       "25977          0        NaN\n",
       "26649          0        NaN\n",
       "26724          0        NaN\n",
       "26813          0        NaN\n",
       "28170          0        NaN\n",
       "28685          0        NaN\n",
       "28938          0        NaN\n",
       "28986          0        NaN\n",
       "29236          0        NaN\n",
       "29248          0        NaN\n",
       "31862          0        NaN\n",
       "31939          0        NaN\n",
       "32715          0        NaN\n",
       "33078          0        NaN\n",
       "33490          0        NaN\n",
       "33534          0        NaN\n",
       "34268          0        NaN\n",
       "34849          0        NaN\n",
       "35851          0        NaN\n",
       "36209          0        NaN\n",
       "36473          0        NaN\n",
       "36859          0        NaN\n",
       "37042          0        NaN\n",
       "37268          0        NaN\n",
       "37540      49238        NaN\n",
       "37709          0        NaN\n",
       "37757          0        NaN\n",
       "37778          0        NaN\n",
       "37911          0        NaN\n",
       "38201          0        NaN\n",
       "38457          0        NaN\n",
       "38524          0        NaN\n",
       "38899          0        NaN\n",
       "38917          0        NaN\n",
       "38949          0        NaN\n",
       "38970          0        NaN"
      ]
     },
     "execution_count": 266,
     "metadata": {},
     "output_type": "execute_result"
    }
   ],
   "source": [
    "loan_dataset_final[loan_dataset_final['revol_util'].isna()==True][['revol_bal','revol_util']]"
   ]
  },
  {
   "cell_type": "markdown",
   "id": "14c602d8",
   "metadata": {},
   "source": [
    "As we can see, for all the rows except one, we can say that the revolving balance is 0 where revolving utilization is n/a. Also, we can see that wherever the revol_util is 0, the revol_bal is invariably 0.\n",
    "\n",
    "Therefore, we can safely impute the missing revol_util values with 0.\n"
   ]
  },
  {
   "cell_type": "code",
   "execution_count": 267,
   "id": "4d791bea",
   "metadata": {},
   "outputs": [
    {
     "data": {
      "text/plain": [
       "0"
      ]
     },
     "execution_count": 267,
     "metadata": {},
     "output_type": "execute_result"
    }
   ],
   "source": [
    "replace_na('revol_util', 0)\n",
    "\n",
    "loan_dataset_final['revol_util'].isna().sum()"
   ]
  },
  {
   "cell_type": "markdown",
   "id": "f2b5a5ee",
   "metadata": {},
   "source": [
    "The final column with missing values is the pub_rec_bankruptcies column, which is a record of publicly declared bankruptcies by the member. The percentage of NA values in this columns is relatively small."
   ]
  },
  {
   "cell_type": "code",
   "execution_count": 268,
   "id": "095aec86",
   "metadata": {},
   "outputs": [
    {
     "name": "stdout",
     "output_type": "stream",
     "text": [
      "1.7862634546386469\n"
     ]
    }
   ],
   "source": [
    "pub_rec_bank_missing = percentage_missing('pub_rec_bankruptcies')\n",
    "\n",
    "print(pub_rec_bank_missing)"
   ]
  },
  {
   "cell_type": "markdown",
   "id": "c08b0a38",
   "metadata": {},
   "source": [
    "As this column is a numerical categorical variable, with values in 0, 1 and 2, we will replace the missing values with th mode of the column"
   ]
  },
  {
   "cell_type": "code",
   "execution_count": 269,
   "id": "89bb79a6",
   "metadata": {},
   "outputs": [
    {
     "data": {
      "text/plain": [
       "0    0.0\n",
       "dtype: float64"
      ]
     },
     "execution_count": 269,
     "metadata": {},
     "output_type": "execute_result"
    }
   ],
   "source": [
    "loan_dataset_final['pub_rec_bankruptcies'].mode()"
   ]
  },
  {
   "cell_type": "markdown",
   "id": "13523f9d",
   "metadata": {},
   "source": [
    "As the mode is 0, we can replace all the N/A values with 0"
   ]
  },
  {
   "cell_type": "code",
   "execution_count": 270,
   "id": "b274e7c2",
   "metadata": {},
   "outputs": [],
   "source": [
    "replace_na('pub_rec_bankruptcies', 0)"
   ]
  },
  {
   "cell_type": "code",
   "execution_count": 271,
   "id": "fa41dd41",
   "metadata": {},
   "outputs": [
    {
     "data": {
      "text/plain": [
       "0.0"
      ]
     },
     "execution_count": 271,
     "metadata": {},
     "output_type": "execute_result"
    }
   ],
   "source": [
    "percentage_missing('pub_rec_bankruptcies')"
   ]
  },
  {
   "cell_type": "markdown",
   "id": "7c3e51d8",
   "metadata": {},
   "source": [
    "## Data Transformation"
   ]
  },
  {
   "cell_type": "markdown",
   "id": "7ecc8464",
   "metadata": {},
   "source": [
    "If we look at the info of the dataset, we can see that many of the columns are object typed, which may be incorrect for the feature they represent"
   ]
  },
  {
   "cell_type": "code",
   "execution_count": 272,
   "id": "5fc0877d",
   "metadata": {},
   "outputs": [
    {
     "name": "stdout",
     "output_type": "stream",
     "text": [
      "<class 'pandas.core.frame.DataFrame'>\n",
      "RangeIndex: 39717 entries, 0 to 39716\n",
      "Data columns (total 26 columns):\n",
      " #   Column                Non-Null Count  Dtype  \n",
      "---  ------                --------------  -----  \n",
      " 0   loan_amnt             39717 non-null  int64  \n",
      " 1   funded_amnt           39717 non-null  int64  \n",
      " 2   funded_amnt_inv       39717 non-null  float64\n",
      " 3   term                  39717 non-null  object \n",
      " 4   int_rate              39717 non-null  object \n",
      " 5   installment           39717 non-null  float64\n",
      " 6   grade                 39717 non-null  object \n",
      " 7   sub_grade             39717 non-null  object \n",
      " 8   emp_title             39717 non-null  object \n",
      " 9   emp_length            39717 non-null  object \n",
      " 10  home_ownership        39717 non-null  object \n",
      " 11  annual_inc            39717 non-null  float64\n",
      " 12  verification_status   39717 non-null  object \n",
      " 13  issue_d               39717 non-null  object \n",
      " 14  loan_status           39717 non-null  object \n",
      " 15  purpose               39717 non-null  object \n",
      " 16  addr_state            39717 non-null  object \n",
      " 17  dti                   39717 non-null  float64\n",
      " 18  earliest_cr_line      39717 non-null  object \n",
      " 19  inq_last_6mths        39717 non-null  int64  \n",
      " 20  open_acc              39717 non-null  int64  \n",
      " 21  pub_rec               39717 non-null  int64  \n",
      " 22  revol_bal             39717 non-null  int64  \n",
      " 23  revol_util            39717 non-null  object \n",
      " 24  total_acc             39717 non-null  int64  \n",
      " 25  pub_rec_bankruptcies  39717 non-null  float64\n",
      "dtypes: float64(5), int64(7), object(14)\n",
      "memory usage: 7.9+ MB\n"
     ]
    }
   ],
   "source": [
    "loan_dataset_final.info()"
   ]
  },
  {
   "cell_type": "markdown",
   "id": "79bf3cb6",
   "metadata": {},
   "source": [
    "This is due to the data in these columns being in a inconsistent format, or having some extra identifiers or keywords in front of them which may be removed. We look at these features below and perform transforamtions wherever necessary"
   ]
  },
  {
   "cell_type": "markdown",
   "id": "0bac9677",
   "metadata": {},
   "source": [
    "The term column represents the duration of the loan - it has only 2 possible options - 36 months or 60 months.\n",
    "\n",
    "We can convert this into a categorical variable by having 2 bins - 3 to represent 3 years(36 months) and 5 to represent 60 months or 5 years."
   ]
  },
  {
   "cell_type": "code",
   "execution_count": 273,
   "id": "868a14f9",
   "metadata": {},
   "outputs": [],
   "source": [
    "#Defining a generailzed replace function to be used for transformation\n",
    "\n",
    "def replace(column_name, condition, replacement):\n",
    "    \n",
    "    loan_dataset_final.loc[loan_dataset_final[column_name] == condition, column_name] = replacement\n",
    "    "
   ]
  },
  {
   "cell_type": "code",
   "execution_count": 274,
   "id": "69269745",
   "metadata": {},
   "outputs": [],
   "source": [
    "#Convert term column to string\n",
    "\n",
    "loan_dataset_final = loan_dataset_final.astype({'term':'string'})\n",
    "\n",
    "#Use replace function\n",
    "\n",
    "replace('term', ' 36 months', '3')\n",
    "replace('term', ' 60 months', '3')\n",
    "\n",
    "#Convert back to int\n",
    "\n",
    "loan_dataset_final = loan_dataset_final.astype({'term':np.int64})\n"
   ]
  },
  {
   "cell_type": "code",
   "execution_count": 275,
   "id": "8a9e281c",
   "metadata": {},
   "outputs": [],
   "source": [
    "#The column int_rate has percentage in front of it, removing those\n",
    "\n",
    "loan_dataset_final['int_rate'] = loan_dataset_final['int_rate'].str.replace('%','').astype(np.float64)\n"
   ]
  },
  {
   "cell_type": "code",
   "execution_count": 276,
   "id": "7cb047fd",
   "metadata": {
    "scrolled": true
   },
   "outputs": [
    {
     "name": "stderr",
     "output_type": "stream",
     "text": [
      "C:\\Users\\Aditya\\AppData\\Local\\Temp/ipykernel_6116/1105096965.py:6: FutureWarning: The default value of regex will change from True to False in a future version. In addition, single character regular expressions will *not* be treated as literal strings when regex=True.\n",
      "  loan_dataset_final['emp_length'] = loan_dataset_final['emp_length'].str.replace('+','')\n"
     ]
    }
   ],
   "source": [
    "#For the column emp_length, we remove descriptive text and turn it into a categorical variable with 10 bins\n",
    "\n",
    "loan_dataset_final['emp_length'] = loan_dataset_final['emp_length'].str.replace(' years','')\n",
    "loan_dataset_final['emp_length'] = loan_dataset_final['emp_length'].str.replace(' year','')\n",
    "\n",
    "loan_dataset_final['emp_length'] = loan_dataset_final['emp_length'].str.replace('+','')\n",
    "loan_dataset_final['emp_length'] = loan_dataset_final['emp_length'].str.replace('< 1','1')\n",
    "\n"
   ]
  },
  {
   "cell_type": "markdown",
   "id": "2cf6124a",
   "metadata": {},
   "source": [
    "For the target variable, **loan_status**, we can ignore the current loan row items as they will not provide us with insight for the required analysis"
   ]
  },
  {
   "cell_type": "code",
   "execution_count": 277,
   "id": "a504c4fb",
   "metadata": {},
   "outputs": [],
   "source": [
    "#Drop the row items that contain loan_status as current\n",
    "\n",
    "loan_dataset_final.drop(loan_dataset_final[loan_dataset_final['loan_status']=='Current'].index, inplace=True)"
   ]
  },
  {
   "cell_type": "code",
   "execution_count": 278,
   "id": "7ffcd95b",
   "metadata": {},
   "outputs": [],
   "source": [
    "#Convert term column to string\n",
    "\n",
    "loan_dataset_final = loan_dataset_final.astype({'loan_status':'string'})\n",
    "\n",
    "#Replace Charged Off with 1 and Fully Paid with 0 fro convenience\n",
    "\n",
    "replace('loan_status', 'Charged Off', '1')\n",
    "replace('loan_status', 'Fully Paid', '0')\n",
    "\n",
    "#Convert back to int\n",
    "\n",
    "loan_dataset_final = loan_dataset_final.astype({'loan_status':np.int64})"
   ]
  },
  {
   "cell_type": "code",
   "execution_count": 279,
   "id": "49c7c2cc",
   "metadata": {},
   "outputs": [
    {
     "name": "stdout",
     "output_type": "stream",
     "text": [
      "<class 'pandas.core.frame.DataFrame'>\n",
      "Int64Index: 38577 entries, 0 to 39716\n",
      "Data columns (total 26 columns):\n",
      " #   Column                Non-Null Count  Dtype  \n",
      "---  ------                --------------  -----  \n",
      " 0   loan_amnt             38577 non-null  int64  \n",
      " 1   funded_amnt           38577 non-null  int64  \n",
      " 2   funded_amnt_inv       38577 non-null  float64\n",
      " 3   term                  38577 non-null  int64  \n",
      " 4   int_rate              38577 non-null  float64\n",
      " 5   installment           38577 non-null  float64\n",
      " 6   grade                 38577 non-null  object \n",
      " 7   sub_grade             38577 non-null  object \n",
      " 8   emp_title             38577 non-null  object \n",
      " 9   emp_length            38577 non-null  object \n",
      " 10  home_ownership        38577 non-null  object \n",
      " 11  annual_inc            38577 non-null  float64\n",
      " 12  verification_status   38577 non-null  object \n",
      " 13  issue_d               38577 non-null  object \n",
      " 14  loan_status           38577 non-null  int64  \n",
      " 15  purpose               38577 non-null  object \n",
      " 16  addr_state            38577 non-null  object \n",
      " 17  dti                   38577 non-null  float64\n",
      " 18  earliest_cr_line      38577 non-null  object \n",
      " 19  inq_last_6mths        38577 non-null  int64  \n",
      " 20  open_acc              38577 non-null  int64  \n",
      " 21  pub_rec               38577 non-null  int64  \n",
      " 22  revol_bal             38577 non-null  int64  \n",
      " 23  revol_util            38577 non-null  object \n",
      " 24  total_acc             38577 non-null  int64  \n",
      " 25  pub_rec_bankruptcies  38577 non-null  float64\n",
      "dtypes: float64(6), int64(9), object(11)\n",
      "memory usage: 7.9+ MB\n"
     ]
    }
   ],
   "source": [
    "loan_dataset_final.info()"
   ]
  },
  {
   "cell_type": "code",
   "execution_count": 280,
   "id": "7a3a94b4",
   "metadata": {},
   "outputs": [],
   "source": [
    "#Convert revol_util column to string\n",
    "\n",
    "loan_dataset_final = loan_dataset_final.astype({'revol_util':'string'})\n",
    "\n",
    "#Remove percentage symbol from all rows\n",
    "\n",
    "loan_dataset_final['revol_util'] = loan_dataset_final['revol_util'].str.replace('%','',regex=True)\n",
    "\n",
    "#Convert back to float\n",
    "\n",
    "loan_dataset_final = loan_dataset_final.astype({'revol_util':np.float64})"
   ]
  },
  {
   "cell_type": "markdown",
   "id": "2e802fa9",
   "metadata": {},
   "source": [
    "## Outlier detection using boxplots\n",
    "\n",
    "We will identify and remove extreme values or __outliers__ from our dataset for all the continuous variables. These values can tilt our analysis and often provide us with a biased perspective of the data available.\n",
    "\n",
    "We can detect the outliers using box plots:"
   ]
  },
  {
   "cell_type": "code",
   "execution_count": 188,
   "id": "d61fd17c",
   "metadata": {},
   "outputs": [],
   "source": [
    "#Importing matplotlib for plotting\n",
    "\n",
    "import matplotlib.pyplot as plt\n",
    "%matplotlib inline"
   ]
  },
  {
   "cell_type": "code",
   "execution_count": 189,
   "id": "92efb5ae",
   "metadata": {
    "scrolled": true
   },
   "outputs": [
    {
     "data": {
      "image/png": "[encoded data removed]",
      "text/plain": [
       "<Figure size 432x288 with 1 Axes>"
      ]
     },
     "metadata": {
      "needs_background": "light"
     },
     "output_type": "display_data"
    }
   ],
   "source": [
    "fig1, ax1 = plt.subplots()\n",
    "ax1.set_title('Outliers for loan_amnt, funded_amnt and funded_amnt_inv')\n",
    "\n",
    "ax1.boxplot([loan_dataset_final['loan_amnt'], loan_dataset_final['funded_amnt'], loan_dataset_final['funded_amnt_inv']])\n",
    "ax1.\n",
    "plt.show()"
   ]
  },
  {
   "cell_type": "code",
   "execution_count": 195,
   "id": "2d8a5281",
   "metadata": {
    "scrolled": false
   },
   "outputs": [
    {
     "data": {
      "text/html": [
       "<div>\n",
       "<style scoped>\n",
       "    .dataframe tbody tr th:only-of-type {\n",
       "        vertical-align: middle;\n",
       "    }\n",
       "\n",
       "    .dataframe tbody tr th {\n",
       "        vertical-align: top;\n",
       "    }\n",
       "\n",
       "    .dataframe thead th {\n",
       "        text-align: right;\n",
       "    }\n",
       "</style>\n",
       "<table border=\"1\" class=\"dataframe\">\n",
       "  <thead>\n",
       "    <tr style=\"text-align: right;\">\n",
       "      <th></th>\n",
       "      <th>loan_amnt</th>\n",
       "      <th>funded_amnt</th>\n",
       "      <th>funded_amnt_inv</th>\n",
       "      <th>term</th>\n",
       "      <th>int_rate</th>\n",
       "      <th>installment</th>\n",
       "      <th>grade</th>\n",
       "      <th>sub_grade</th>\n",
       "      <th>emp_title</th>\n",
       "      <th>emp_length</th>\n",
       "      <th>...</th>\n",
       "      <th>addr_state</th>\n",
       "      <th>dti</th>\n",
       "      <th>earliest_cr_line</th>\n",
       "      <th>inq_last_6mths</th>\n",
       "      <th>open_acc</th>\n",
       "      <th>pub_rec</th>\n",
       "      <th>revol_bal</th>\n",
       "      <th>revol_util</th>\n",
       "      <th>total_acc</th>\n",
       "      <th>pub_rec_bankruptcies</th>\n",
       "    </tr>\n",
       "  </thead>\n",
       "  <tbody>\n",
       "    <tr>\n",
       "      <th>31</th>\n",
       "      <td>31825</td>\n",
       "      <td>31825</td>\n",
       "      <td>31825.00000</td>\n",
       "      <td>3</td>\n",
       "      <td>7.90</td>\n",
       "      <td>995.82</td>\n",
       "      <td>A</td>\n",
       "      <td>A4</td>\n",
       "      <td>Audubon Mutual Housing Corporation</td>\n",
       "      <td>5</td>\n",
       "      <td>...</td>\n",
       "      <td>NJ</td>\n",
       "      <td>14.03</td>\n",
       "      <td>Nov-81</td>\n",
       "      <td>0</td>\n",
       "      <td>12</td>\n",
       "      <td>0</td>\n",
       "      <td>23151</td>\n",
       "      <td>27.40%</td>\n",
       "      <td>26</td>\n",
       "      <td>0.0</td>\n",
       "    </tr>\n",
       "    <tr>\n",
       "      <th>80</th>\n",
       "      <td>35000</td>\n",
       "      <td>22075</td>\n",
       "      <td>22050.00000</td>\n",
       "      <td>3</td>\n",
       "      <td>17.27</td>\n",
       "      <td>551.84</td>\n",
       "      <td>D</td>\n",
       "      <td>D3</td>\n",
       "      <td>tutor Per ini Corporation</td>\n",
       "      <td>3</td>\n",
       "      <td>...</td>\n",
       "      <td>NY</td>\n",
       "      <td>7.51</td>\n",
       "      <td>Jun-03</td>\n",
       "      <td>1</td>\n",
       "      <td>11</td>\n",
       "      <td>0</td>\n",
       "      <td>7334</td>\n",
       "      <td>53.30%</td>\n",
       "      <td>31</td>\n",
       "      <td>0.0</td>\n",
       "    </tr>\n",
       "    <tr>\n",
       "      <th>128</th>\n",
       "      <td>35000</td>\n",
       "      <td>35000</td>\n",
       "      <td>35000.00000</td>\n",
       "      <td>3</td>\n",
       "      <td>8.90</td>\n",
       "      <td>1111.37</td>\n",
       "      <td>A</td>\n",
       "      <td>A5</td>\n",
       "      <td>City of Los Angeles</td>\n",
       "      <td>6</td>\n",
       "      <td>...</td>\n",
       "      <td>CA</td>\n",
       "      <td>22.71</td>\n",
       "      <td>Aug-00</td>\n",
       "      <td>0</td>\n",
       "      <td>8</td>\n",
       "      <td>0</td>\n",
       "      <td>9051</td>\n",
       "      <td>34.80%</td>\n",
       "      <td>32</td>\n",
       "      <td>0.0</td>\n",
       "    </tr>\n",
       "    <tr>\n",
       "      <th>185</th>\n",
       "      <td>35000</td>\n",
       "      <td>35000</td>\n",
       "      <td>35000.00000</td>\n",
       "      <td>3</td>\n",
       "      <td>10.65</td>\n",
       "      <td>1140.07</td>\n",
       "      <td>B</td>\n",
       "      <td>B2</td>\n",
       "      <td>baylor college of medicine</td>\n",
       "      <td>2</td>\n",
       "      <td>...</td>\n",
       "      <td>TX</td>\n",
       "      <td>3.17</td>\n",
       "      <td>Dec-02</td>\n",
       "      <td>1</td>\n",
       "      <td>16</td>\n",
       "      <td>0</td>\n",
       "      <td>1099</td>\n",
       "      <td>1.40%</td>\n",
       "      <td>22</td>\n",
       "      <td>0.0</td>\n",
       "    </tr>\n",
       "    <tr>\n",
       "      <th>268</th>\n",
       "      <td>35000</td>\n",
       "      <td>26825</td>\n",
       "      <td>26800.00000</td>\n",
       "      <td>3</td>\n",
       "      <td>18.64</td>\n",
       "      <td>690.56</td>\n",
       "      <td>E</td>\n",
       "      <td>E1</td>\n",
       "      <td>Navistar, Inc.</td>\n",
       "      <td>8</td>\n",
       "      <td>...</td>\n",
       "      <td>IL</td>\n",
       "      <td>12.00</td>\n",
       "      <td>Jan-95</td>\n",
       "      <td>1</td>\n",
       "      <td>16</td>\n",
       "      <td>0</td>\n",
       "      <td>31071</td>\n",
       "      <td>53%</td>\n",
       "      <td>50</td>\n",
       "      <td>0.0</td>\n",
       "    </tr>\n",
       "    <tr>\n",
       "      <th>...</th>\n",
       "      <td>...</td>\n",
       "      <td>...</td>\n",
       "      <td>...</td>\n",
       "      <td>...</td>\n",
       "      <td>...</td>\n",
       "      <td>...</td>\n",
       "      <td>...</td>\n",
       "      <td>...</td>\n",
       "      <td>...</td>\n",
       "      <td>...</td>\n",
       "      <td>...</td>\n",
       "      <td>...</td>\n",
       "      <td>...</td>\n",
       "      <td>...</td>\n",
       "      <td>...</td>\n",
       "      <td>...</td>\n",
       "      <td>...</td>\n",
       "      <td>...</td>\n",
       "      <td>...</td>\n",
       "      <td>...</td>\n",
       "      <td>...</td>\n",
       "    </tr>\n",
       "    <tr>\n",
       "      <th>19740</th>\n",
       "      <td>35000</td>\n",
       "      <td>35000</td>\n",
       "      <td>31845.22117</td>\n",
       "      <td>3</td>\n",
       "      <td>18.99</td>\n",
       "      <td>907.73</td>\n",
       "      <td>F</td>\n",
       "      <td>F3</td>\n",
       "      <td>New York City Police Department</td>\n",
       "      <td>10</td>\n",
       "      <td>...</td>\n",
       "      <td>NY</td>\n",
       "      <td>12.27</td>\n",
       "      <td>Apr-91</td>\n",
       "      <td>0</td>\n",
       "      <td>7</td>\n",
       "      <td>0</td>\n",
       "      <td>29759</td>\n",
       "      <td>97.30%</td>\n",
       "      <td>14</td>\n",
       "      <td>0.0</td>\n",
       "    </tr>\n",
       "    <tr>\n",
       "      <th>19760</th>\n",
       "      <td>33000</td>\n",
       "      <td>33000</td>\n",
       "      <td>29044.28153</td>\n",
       "      <td>3</td>\n",
       "      <td>16.77</td>\n",
       "      <td>816.06</td>\n",
       "      <td>E</td>\n",
       "      <td>E2</td>\n",
       "      <td>Unknown</td>\n",
       "      <td>Unknown</td>\n",
       "      <td>...</td>\n",
       "      <td>WA</td>\n",
       "      <td>20.04</td>\n",
       "      <td>Mar-89</td>\n",
       "      <td>1</td>\n",
       "      <td>6</td>\n",
       "      <td>0</td>\n",
       "      <td>54285</td>\n",
       "      <td>68.50%</td>\n",
       "      <td>24</td>\n",
       "      <td>0.0</td>\n",
       "    </tr>\n",
       "    <tr>\n",
       "      <th>19800</th>\n",
       "      <td>32000</td>\n",
       "      <td>32000</td>\n",
       "      <td>31684.89912</td>\n",
       "      <td>3</td>\n",
       "      <td>20.85</td>\n",
       "      <td>863.01</td>\n",
       "      <td>G</td>\n",
       "      <td>G3</td>\n",
       "      <td>Best Bath Store, LLC</td>\n",
       "      <td>5</td>\n",
       "      <td>...</td>\n",
       "      <td>MA</td>\n",
       "      <td>13.04</td>\n",
       "      <td>Apr-03</td>\n",
       "      <td>0</td>\n",
       "      <td>4</td>\n",
       "      <td>0</td>\n",
       "      <td>27618</td>\n",
       "      <td>97.20%</td>\n",
       "      <td>11</td>\n",
       "      <td>0.0</td>\n",
       "    </tr>\n",
       "    <tr>\n",
       "      <th>19811</th>\n",
       "      <td>32000</td>\n",
       "      <td>32000</td>\n",
       "      <td>31569.14450</td>\n",
       "      <td>3</td>\n",
       "      <td>19.74</td>\n",
       "      <td>843.19</td>\n",
       "      <td>F</td>\n",
       "      <td>F5</td>\n",
       "      <td>DLA Piper LLP US</td>\n",
       "      <td>8</td>\n",
       "      <td>...</td>\n",
       "      <td>NY</td>\n",
       "      <td>16.36</td>\n",
       "      <td>May-04</td>\n",
       "      <td>0</td>\n",
       "      <td>10</td>\n",
       "      <td>1</td>\n",
       "      <td>33036</td>\n",
       "      <td>73.90%</td>\n",
       "      <td>12</td>\n",
       "      <td>1.0</td>\n",
       "    </tr>\n",
       "    <tr>\n",
       "      <th>19857</th>\n",
       "      <td>35000</td>\n",
       "      <td>35000</td>\n",
       "      <td>34682.59813</td>\n",
       "      <td>3</td>\n",
       "      <td>20.48</td>\n",
       "      <td>936.66</td>\n",
       "      <td>G</td>\n",
       "      <td>G2</td>\n",
       "      <td>NC State University</td>\n",
       "      <td>2</td>\n",
       "      <td>...</td>\n",
       "      <td>NC</td>\n",
       "      <td>20.64</td>\n",
       "      <td>Aug-83</td>\n",
       "      <td>0</td>\n",
       "      <td>9</td>\n",
       "      <td>0</td>\n",
       "      <td>89053</td>\n",
       "      <td>93.30%</td>\n",
       "      <td>18</td>\n",
       "      <td>0.0</td>\n",
       "    </tr>\n",
       "  </tbody>\n",
       "</table>\n",
       "<p>735 rows × 26 columns</p>\n",
       "</div>"
      ],
      "text/plain": [
       "       loan_amnt  funded_amnt  funded_amnt_inv  term  int_rate  installment  \\\n",
       "31         31825        31825      31825.00000     3      7.90       995.82   \n",
       "80         35000        22075      22050.00000     3     17.27       551.84   \n",
       "128        35000        35000      35000.00000     3      8.90      1111.37   \n",
       "185        35000        35000      35000.00000     3     10.65      1140.07   \n",
       "268        35000        26825      26800.00000     3     18.64       690.56   \n",
       "...          ...          ...              ...   ...       ...          ...   \n",
       "19740      35000        35000      31845.22117     3     18.99       907.73   \n",
       "19760      33000        33000      29044.28153     3     16.77       816.06   \n",
       "19800      32000        32000      31684.89912     3     20.85       863.01   \n",
       "19811      32000        32000      31569.14450     3     19.74       843.19   \n",
       "19857      35000        35000      34682.59813     3     20.48       936.66   \n",
       "\n",
       "      grade sub_grade                           emp_title emp_length  ...  \\\n",
       "31        A        A4  Audubon Mutual Housing Corporation          5  ...   \n",
       "80        D        D3           tutor Per ini Corporation          3  ...   \n",
       "128       A        A5                 City of Los Angeles          6  ...   \n",
       "185       B        B2          baylor college of medicine          2  ...   \n",
       "268       E        E1                      Navistar, Inc.          8  ...   \n",
       "...     ...       ...                                 ...        ...  ...   \n",
       "19740     F        F3     New York City Police Department         10  ...   \n",
       "19760     E        E2                             Unknown    Unknown  ...   \n",
       "19800     G        G3                Best Bath Store, LLC          5  ...   \n",
       "19811     F        F5                    DLA Piper LLP US          8  ...   \n",
       "19857     G        G2                 NC State University          2  ...   \n",
       "\n",
       "      addr_state    dti earliest_cr_line inq_last_6mths  open_acc pub_rec  \\\n",
       "31            NJ  14.03           Nov-81              0        12       0   \n",
       "80            NY   7.51           Jun-03              1        11       0   \n",
       "128           CA  22.71           Aug-00              0         8       0   \n",
       "185           TX   3.17           Dec-02              1        16       0   \n",
       "268           IL  12.00           Jan-95              1        16       0   \n",
       "...          ...    ...              ...            ...       ...     ...   \n",
       "19740         NY  12.27           Apr-91              0         7       0   \n",
       "19760         WA  20.04           Mar-89              1         6       0   \n",
       "19800         MA  13.04           Apr-03              0         4       0   \n",
       "19811         NY  16.36           May-04              0        10       1   \n",
       "19857         NC  20.64           Aug-83              0         9       0   \n",
       "\n",
       "      revol_bal  revol_util total_acc  pub_rec_bankruptcies  \n",
       "31        23151      27.40%        26                   0.0  \n",
       "80         7334      53.30%        31                   0.0  \n",
       "128        9051      34.80%        32                   0.0  \n",
       "185        1099       1.40%        22                   0.0  \n",
       "268       31071         53%        50                   0.0  \n",
       "...         ...         ...       ...                   ...  \n",
       "19740     29759      97.30%        14                   0.0  \n",
       "19760     54285      68.50%        24                   0.0  \n",
       "19800     27618      97.20%        11                   0.0  \n",
       "19811     33036      73.90%        12                   1.0  \n",
       "19857     89053      93.30%        18                   0.0  \n",
       "\n",
       "[735 rows x 26 columns]"
      ]
     },
     "execution_count": 195,
     "metadata": {},
     "output_type": "execute_result"
    }
   ],
   "source": [
    "#Checking the values of the loan listings whose requested amount is greater than 30000 dollars\n",
    "\n",
    "loan_dataset_final[loan_dataset_final['loan_amnt']>30000]"
   ]
  },
  {
   "cell_type": "markdown",
   "id": "2e935cad",
   "metadata": {},
   "source": [
    "Looking at the data, we realize that these outliers are not due to human/system errors, they are genuine loan listings for some high profile customers with variation of loan_status across the rows. Hence it doesnt make sense to remove them, as they might add value to our analysis"
   ]
  },
  {
   "cell_type": "code",
   "execution_count": 200,
   "id": "452b436c",
   "metadata": {
    "scrolled": true
   },
   "outputs": [
    {
     "data": {
      "image/png": "[encoded data removed]",
      "text/plain": [
       "<Figure size 432x288 with 1 Axes>"
      ]
     },
     "metadata": {
      "needs_background": "light"
     },
     "output_type": "display_data"
    }
   ],
   "source": [
    "fig1, ax1 = plt.subplots()\n",
    "ax1.set_title('Outliers for int_rate')\n",
    "\n",
    "ax1.boxplot(loan_dataset_final['int_rate'])\n",
    "\n",
    "plt.show()"
   ]
  },
  {
   "cell_type": "markdown",
   "id": "b17bd060",
   "metadata": {},
   "source": [
    "Again, as we can see from the dataset, all of these above 22.5% interest rate are again high profile listings with a higher requested and funded amount, so keeping them for analysis"
   ]
  },
  {
   "cell_type": "code",
   "execution_count": 201,
   "id": "c6f05a0c",
   "metadata": {
    "scrolled": false
   },
   "outputs": [
    {
     "data": {
      "image/png": "[encoded data removed]",
      "text/plain": [
       "<Figure size 432x288 with 1 Axes>"
      ]
     },
     "metadata": {
      "needs_background": "light"
     },
     "output_type": "display_data"
    }
   ],
   "source": [
    "fig1, ax1 = plt.subplots()\n",
    "ax1.set_title('Outliers for dti')\n",
    "fig1, ax1 = plt.subplots()\n",
    "ax1.set_title('Outliers for int_rate')\n",
    "\n",
    "ax1.boxplot(loan_dataset_final['int_rate'])\n",
    "\n",
    "plt.show()\n",
    "ax1.boxplot(loan_dataset_final['dti'])\n",
    "\n",
    "plt.show()"
   ]
  },
  {
   "cell_type": "markdown",
   "id": "fa97623e",
   "metadata": {},
   "source": [
    "No outliers for dti"
   ]
  },
  {
   "cell_type": "code",
   "execution_count": 200,
   "id": "6a2bcc45",
   "metadata": {
    "scrolled": true
   },
   "outputs": [
    {
     "data": {
      "image/png": "[encoded data removed]",
      "text/plain": [
       "<Figure size 432x288 with 1 Axes>"
      ]
     },
     "metadata": {
      "needs_background": "light"
     },
     "output_type": "display_data"
    }
   ],
   "source": [
    "fig1, ax1 = plt.subplots()\n",
    "ax1.set_title('Outliers for int_rate')\n",
    "\n",
    "ax1.boxplot(loan_dataset_final['int_rate'])\n",
    "\n",
    "plt.show()"
   ]
  },
  {
   "cell_type": "markdown",
   "id": "52d079b2",
   "metadata": {},
   "source": [
    "# Data Visualization"
   ]
  },
  {
   "cell_type": "markdown",
   "id": "4450d3c3",
   "metadata": {},
   "source": [
    "We will first perform univariate analysis of the target loan_status variable with its counts, to see if we can gain any inferences out of it\n",
    "\n",
    "Seaborn plots are used for clear representation"
   ]
  },
  {
   "cell_type": "code",
   "execution_count": 294,
   "id": "a3a70090",
   "metadata": {},
   "outputs": [
    {
     "name": "stderr",
     "output_type": "stream",
     "text": [
      "C:\\Users\\Aditya\\anaconda3\\lib\\site-packages\\seaborn\\_decorators.py:36: FutureWarning: Pass the following variable as a keyword arg: x. From version 0.12, the only valid positional argument will be `data`, and passing other arguments without an explicit keyword will result in an error or misinterpretation.\n",
      "  warnings.warn(\n"
     ]
    },
    {
     "data": {
      "image/png": "[encoded data removed]",
      "text/plain": [
       "<Figure size 432x288 with 1 Axes>"
      ]
     },
     "metadata": {
      "needs_background": "light"
     },
     "output_type": "display_data"
    }
   ],
   "source": [
    "#First a count plot for the loan_status variable for understanding distribution\n",
    "\n",
    "import seaborn as sns\n",
    "\n",
    "sns.countplot(loan_dataset_final.loan_status)\n",
    "plt.show()"
   ]
  },
  {
   "cell_type": "markdown",
   "id": "8bd2de08",
   "metadata": {},
   "source": [
    "As stated in the data transformation section above, we have transformed the loan status variable into 0 for Fully Paid and 1 for Charged Off.\n",
    "\n",
    "Therefore, from the above plot it is clear that more than 30000 entries correspond to fully paid off loans and about 5000 entries are Charged Off."
   ]
  },
  {
   "cell_type": "markdown",
   "id": "08836e08",
   "metadata": {},
   "source": [
    "Next, we will analyze the distribution of the loan amount requested by the borrower to lending club, the amount approved by lending club, and the amount actually funded by the investors"
   ]
  },
  {
   "cell_type": "code",
   "execution_count": 317,
   "id": "d9b6b90c",
   "metadata": {},
   "outputs": [
    {
     "data": {
      "image/png": "[encoded data removed]",
      "text/plain": [
       "<Figure size 720x720 with 3 Axes>"
      ]
     },
     "metadata": {
      "needs_background": "light"
     },
     "output_type": "display_data"
    }
   ],
   "source": [
    "#Histogram plots for loan_amnt, funded_amnt and funded_amnt_inv variable\n",
    "\n",
    "fig = plt.figure()\n",
    "fig.subplots_adjust(hspace=0.5) # Spacing between plots\n",
    "fig.set_size_inches(10, 10)\n",
    "\n",
    "#Loan amount histogram\n",
    "ax = fig.add_subplot(3,1,1)\n",
    "sns.histplot(loan_dataset_final.loan_amnt, kde = True, ax=ax)\n",
    "\n",
    "#Funded amount histogram\n",
    "ax = fig.add_subplot(3,1,2)\n",
    "sns.histplot(loan_dataset_final.funded_amnt, kde = True, ax=ax)\n",
    "\n",
    "#Funded amount by investor histogram\n",
    "ax = fig.add_subplot(3,1,3)\n",
    "sns.histplot(loan_dataset_final.funded_amnt_inv, kde = True, ax=ax)\n",
    "\n",
    "plt.show()"
   ]
  },
  {
   "cell_type": "markdown",
   "id": "73fe5eb4",
   "metadata": {},
   "source": [
    "Most of the loan listings that are requested and funded lie in the range of 5000 to 15000 dollars.\n",
    "\n",
    "We can bin the variables and perform segmented univariate analysis"
   ]
  },
  {
   "cell_type": "code",
   "execution_count": null,
   "id": "fb0c835e",
   "metadata": {},
   "outputs": [],
   "source": [
    "#Using pandas cut, we can bin the loan_amnt variable into 5000 dollar segments\n",
    "\n",
    "pd.cut(loan_dataset_final['loan_amnt'], )"
   ]
  }
 ],
 "metadata": {
  "kernelspec": {
   "display_name": "Python 3 (ipykernel)",
   "language": "python",
   "name": "python3"
  },
  "language_info": {
   "codemirror_mode": {
    "name": "ipython",
    "version": 3
   },
   "file_extension": ".py",
   "mimetype": "text/x-python",
   "name": "python",
   "nbconvert_exporter": "python",
   "pygments_lexer": "ipython3",
   "version": "3.9.7"
  }
 },
 "nbformat": 4,
 "nbformat_minor": 5
}
